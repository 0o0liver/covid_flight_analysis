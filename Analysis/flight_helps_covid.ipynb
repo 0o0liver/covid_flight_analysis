{
  "nbformat": 4,
  "nbformat_minor": 0,
  "metadata": {
    "colab": {
      "name": "flight_helps_covid.ipynb",
      "provenance": [],
      "mount_file_id": "1BY29XjpVQpHWUdOUhJ-BJx_PcHNyfrqv",
      "authorship_tag": "ABX9TyM0hSTV/rh4YxTVhGqUAmcL",
      "include_colab_link": true
    },
    "kernelspec": {
      "name": "python3",
      "display_name": "Python 3"
    }
  },
  "cells": [
    {
      "cell_type": "markdown",
      "metadata": {
        "id": "view-in-github",
        "colab_type": "text"
      },
      "source": [
        "<a href=\"https://colab.research.google.com/github/shantanutrip/covid_flight_analysis/blob/master/Analysis/flight_helps_covid.ipynb\" target=\"_parent\"><img src=\"https://colab.research.google.com/assets/colab-badge.svg\" alt=\"Open In Colab\"/></a>"
      ]
    },
    {
      "cell_type": "markdown",
      "metadata": {
        "id": "70KSTgQx_cJO",
        "colab_type": "text"
      },
      "source": [
        "# This notebook aims to discover how air travel helped the spread of COVID-19 "
      ]
    },
    {
      "cell_type": "markdown",
      "metadata": {
        "id": "hRKj1hv8FA3O",
        "colab_type": "text"
      },
      "source": [
        "# Install dependencies"
      ]
    },
    {
      "cell_type": "code",
      "metadata": {
        "id": "-5CndsKii1UT",
        "colab_type": "code",
        "outputId": "9bf7230f-b699-484e-83ef-d7be756ee279",
        "colab": {
          "base_uri": "https://localhost:8080/",
          "height": 258
        }
      },
      "source": [
        "# Install spark-related dependencies\n",
        "!apt-get install openjdk-8-jdk-headless -qq > /dev/null\n",
        "!wget -q https://downloads.apache.org/spark/spark-2.4.5/spark-2.4.5-bin-hadoop2.7.tgz\n",
        "!tar xf spark-2.4.5-bin-hadoop2.7.tgz\n",
        "!pip install -q findspark\n",
        "!pip install pyspark\n",
        "\n",
        "# Set up required environment variables\n",
        "import os\n",
        "os.environ[\"JAVA_HOME\"] = \"/usr/lib/jvm/java-8-openjdk-amd64\"\n",
        "os.environ[\"SPARK_HOME\"] = \"/content/spark-2.4.5-bin-hadoop2.7\""
      ],
      "execution_count": 1,
      "outputs": [
        {
          "output_type": "stream",
          "text": [
            "Collecting pyspark\n",
            "\u001b[?25l  Downloading https://files.pythonhosted.org/packages/9a/5a/271c416c1c2185b6cb0151b29a91fff6fcaed80173c8584ff6d20e46b465/pyspark-2.4.5.tar.gz (217.8MB)\n",
            "\u001b[K     |████████████████████████████████| 217.8MB 51kB/s \n",
            "\u001b[?25hCollecting py4j==0.10.7\n",
            "\u001b[?25l  Downloading https://files.pythonhosted.org/packages/e3/53/c737818eb9a7dc32a7cd4f1396e787bd94200c3997c72c1dbe028587bd76/py4j-0.10.7-py2.py3-none-any.whl (197kB)\n",
            "\u001b[K     |████████████████████████████████| 204kB 42.4MB/s \n",
            "\u001b[?25hBuilding wheels for collected packages: pyspark\n",
            "  Building wheel for pyspark (setup.py) ... \u001b[?25l\u001b[?25hdone\n",
            "  Created wheel for pyspark: filename=pyspark-2.4.5-py2.py3-none-any.whl size=218257927 sha256=68cb2e401b2b63e75dcf2bbf92a7d608690edc312d5994ba05a4c6dfa51f08ba\n",
            "  Stored in directory: /root/.cache/pip/wheels/bf/db/04/61d66a5939364e756eb1c1be4ec5bdce6e04047fc7929a3c3c\n",
            "Successfully built pyspark\n",
            "Installing collected packages: py4j, pyspark\n",
            "Successfully installed py4j-0.10.7 pyspark-2.4.5\n"
          ],
          "name": "stdout"
        }
      ]
    },
    {
      "cell_type": "markdown",
      "metadata": {
        "id": "7vpFrw0pFIrP",
        "colab_type": "text"
      },
      "source": [
        "# Download data\n",
        "\n"
      ]
    },
    {
      "cell_type": "code",
      "metadata": {
        "id": "xpF1CD2rsDKw",
        "colab_type": "code",
        "outputId": "fc93845a-6d6c-480a-bb5c-09c39527c8b2",
        "colab": {
          "base_uri": "https://localhost:8080/",
          "height": 391
        }
      },
      "source": [
        "!wget https://raw.githubusercontent.com/nytimes/covid-19-data/master/us-counties.csv\n",
        "!wget https://ourairports.com/data/airports.csv"
      ],
      "execution_count": 2,
      "outputs": [
        {
          "output_type": "stream",
          "text": [
            "--2020-05-08 09:54:19--  https://raw.githubusercontent.com/nytimes/covid-19-data/master/us-counties.csv\n",
            "Resolving raw.githubusercontent.com (raw.githubusercontent.com)... 151.101.0.133, 151.101.64.133, 151.101.128.133, ...\n",
            "Connecting to raw.githubusercontent.com (raw.githubusercontent.com)|151.101.0.133|:443... connected.\n",
            "HTTP request sent, awaiting response... 200 OK\n",
            "Length: 4745409 (4.5M) [text/plain]\n",
            "Saving to: ‘us-counties.csv’\n",
            "\n",
            "\rus-counties.csv       0%[                    ]       0  --.-KB/s               \rus-counties.csv      67%[============>       ]   3.07M  15.3MB/s               \rus-counties.csv     100%[===================>]   4.53M  17.9MB/s    in 0.3s    \n",
            "\n",
            "2020-05-08 09:54:19 (17.9 MB/s) - ‘us-counties.csv’ saved [4745409/4745409]\n",
            "\n",
            "--2020-05-08 09:54:20--  https://ourairports.com/data/airports.csv\n",
            "Resolving ourairports.com (ourairports.com)... 206.71.179.167\n",
            "Connecting to ourairports.com (ourairports.com)|206.71.179.167|:443... connected.\n",
            "HTTP request sent, awaiting response... 200 OK\n",
            "Length: 8475762 (8.1M) [text/csv]\n",
            "Saving to: ‘airports.csv’\n",
            "\n",
            "airports.csv        100%[===================>]   8.08M  9.78MB/s    in 0.8s    \n",
            "\n",
            "2020-05-08 09:54:21 (9.78 MB/s) - ‘airports.csv’ saved [8475762/8475762]\n",
            "\n"
          ],
          "name": "stdout"
        }
      ]
    },
    {
      "cell_type": "markdown",
      "metadata": {
        "id": "JuC0BqVxsRVg",
        "colab_type": "text"
      },
      "source": [
        "# Execution "
      ]
    },
    {
      "cell_type": "code",
      "metadata": {
        "id": "aUeOL-dWr_b0",
        "colab_type": "code",
        "colab": {}
      },
      "source": [
        "import findspark\n",
        "findspark.init(\"spark-2.4.5-bin-hadoop2.7\")\n",
        "from pyspark.sql import SparkSession\n",
        "spark = SparkSession.builder.master(\"local[*]\").getOrCreate()\n",
        "\n",
        "airports = spark.read.format(\"csv\").options(header=\"true\").load(\"/content/airports.csv\")\n",
        "disease = spark.read.format(\"csv\").options(header=\"true\", inferSchema=\"true\").load(\"/content/us-counties.csv\")\n",
        "# Change merged_flight.csv path accordingly\n",
        "all_flights = spark.read.format(\"csv\").options(header=\"true\", inferSchema=\"true\").load(\"/content/drive/My Drive/Big Data Final Project/Data/merged_flight.csv\")"
      ],
      "execution_count": 0,
      "outputs": []
    },
    {
      "cell_type": "code",
      "metadata": {
        "id": "srnqxOQlXQs3",
        "colab_type": "code",
        "colab": {}
      },
      "source": [
        "from pyspark.sql.types import *\n",
        "from pyspark.sql.functions import *\n",
        "from pyspark.sql.types import *\n",
        "import datetime\n",
        "from geopy.geocoders import Nominatim\n",
        "import matplotlib.pyplot as plt\n",
        "import numpy as np"
      ],
      "execution_count": 0,
      "outputs": []
    },
    {
      "cell_type": "code",
      "metadata": {
        "id": "z8Xs7t2IVqDY",
        "colab_type": "code",
        "colab": {}
      },
      "source": [
        "# Select target city and state.\n",
        "target_city = \"Dallas\"\n",
        "target_state = \"Texas\""
      ],
      "execution_count": 0,
      "outputs": []
    },
    {
      "cell_type": "code",
      "metadata": {
        "id": "wRyETMx5Vopc",
        "colab_type": "code",
        "outputId": "77f283f0-e764-425a-91f5-ccd231a19305",
        "colab": {
          "base_uri": "https://localhost:8080/",
          "height": 34
        }
      },
      "source": [
        "# Finding out when COVID-19 started spreading in target city.\n",
        "target_date = disease.filter((disease[\"county\"] == target_city) & (disease[\"state\"] == target_state)).orderBy(\"date\").first()[\"date\"]\n",
        "print(target_date)"
      ],
      "execution_count": 55,
      "outputs": [
        {
          "output_type": "stream",
          "text": [
            "2020-03-10 00:00:00\n"
          ],
          "name": "stdout"
        }
      ]
    },
    {
      "cell_type": "code",
      "metadata": {
        "id": "SsbwugdOn1iu",
        "colab_type": "code",
        "outputId": "103f60ba-cce2-451f-c4c2-9d81ad1d3bd9",
        "colab": {
          "base_uri": "https://localhost:8080/",
          "height": 119
        }
      },
      "source": [
        "# Finding out the airports' ICAO code and name for the target city.\n",
        "target_airports = airports.filter((airports[\"municipality\"] == target_city) & ((airports[\"type\"] == \"large_airport\") | (airports[\"type\"] == \"medium_airport\"))).select(\"ident\", \"name\", \"municipality\")\n",
        "target_airports.show()"
      ],
      "execution_count": 56,
      "outputs": [
        {
          "output_type": "stream",
          "text": [
            "+-----+-----------------+------------+\n",
            "|ident|             name|municipality|\n",
            "+-----+-----------------+------------+\n",
            "| KDAL|Dallas Love Field|      Dallas|\n",
            "+-----+-----------------+------------+\n",
            "\n"
          ],
          "name": "stdout"
        }
      ]
    },
    {
      "cell_type": "code",
      "metadata": {
        "id": "4iXLXKXCpo9f",
        "colab_type": "code",
        "outputId": "d05160b0-3725-443d-d235-5570f8a876d9",
        "colab": {
          "base_uri": "https://localhost:8080/",
          "height": 459
        }
      },
      "source": [
        "# Finding out all flights that landed in target city(county) in the first 4 months of 2020.\n",
        "target_flights = all_flights.filter(all_flights[\"origin\"] != \"null\").join(target_airports, target_airports[\"ident\"] == all_flights[\"destination\"]).withColumnRenamed(\"ident\", \"dst_ident\").withColumnRenamed(\"name\", \"dst_name\").withColumnRenamed(\"municipality\", \"dst_municipality\").drop(\"callsign\", \"number\", \"icao24\", \"registration\", \"typecode\", \"firstseen\", \"lastseen\")\n",
        "target_flights.show()"
      ],
      "execution_count": 57,
      "outputs": [
        {
          "output_type": "stream",
          "text": [
            "+------+-----------+--------------------+---------+-----------------+----------------+\n",
            "|origin|destination|                 day|dst_ident|         dst_name|dst_municipality|\n",
            "+------+-----------+--------------------+---------+-----------------+----------------+\n",
            "|  KFLL|       KDAL|2020-01-01 00:00:...|     KDAL|Dallas Love Field|          Dallas|\n",
            "|  KLGA|       KDAL|2020-01-01 00:00:...|     KDAL|Dallas Love Field|          Dallas|\n",
            "|  KLAS|       KDAL|2020-01-01 00:00:...|     KDAL|Dallas Love Field|          Dallas|\n",
            "|  KSEA|       KDAL|2020-01-01 00:00:...|     KDAL|Dallas Love Field|          Dallas|\n",
            "|  KDCA|       KDAL|2020-01-01 00:00:...|     KDAL|Dallas Love Field|          Dallas|\n",
            "|  KSEA|       KDAL|2020-01-01 00:00:...|     KDAL|Dallas Love Field|          Dallas|\n",
            "|  KBWI|       KDAL|2020-01-01 00:00:...|     KDAL|Dallas Love Field|          Dallas|\n",
            "|  KPHL|       KDAL|2020-01-01 00:00:...|     KDAL|Dallas Love Field|          Dallas|\n",
            "|  KSJC|       KDAL|2020-01-01 00:00:...|     KDAL|Dallas Love Field|          Dallas|\n",
            "|  KMCI|       KDAL|2020-01-01 00:00:...|     KDAL|Dallas Love Field|          Dallas|\n",
            "|  KORL|       KDAL|2020-01-01 00:00:...|     KDAL|Dallas Love Field|          Dallas|\n",
            "|  KRDU|       KDAL|2020-01-01 00:00:...|     KDAL|Dallas Love Field|          Dallas|\n",
            "|  KDEN|       KDAL|2020-01-01 00:00:...|     KDAL|Dallas Love Field|          Dallas|\n",
            "|  KSMF|       KDAL|2020-01-01 00:00:...|     KDAL|Dallas Love Field|          Dallas|\n",
            "|  KLAS|       KDAL|2020-01-01 00:00:...|     KDAL|Dallas Love Field|          Dallas|\n",
            "|  KMDW|       KDAL|2020-01-01 00:00:...|     KDAL|Dallas Love Field|          Dallas|\n",
            "|  88PA|       KDAL|2020-01-01 00:00:...|     KDAL|Dallas Love Field|          Dallas|\n",
            "|  KMDW|       KDAL|2020-01-01 00:00:...|     KDAL|Dallas Love Field|          Dallas|\n",
            "|  KSFO|       KDAL|2020-01-01 00:00:...|     KDAL|Dallas Love Field|          Dallas|\n",
            "|  KHOU|       KDAL|2020-01-01 00:00:...|     KDAL|Dallas Love Field|          Dallas|\n",
            "+------+-----------+--------------------+---------+-----------------+----------------+\n",
            "only showing top 20 rows\n",
            "\n"
          ],
          "name": "stdout"
        }
      ]
    },
    {
      "cell_type": "code",
      "metadata": {
        "id": "BwcvwdO_4vji",
        "colab_type": "code",
        "colab": {
          "base_uri": "https://localhost:8080/",
          "height": 479
        },
        "outputId": "6f53b427-d4f4-4000-9386-5b6a84e158ad"
      },
      "source": [
        "# Adding origin airport information (ident, name, municipality, latitude, longitude).\n",
        "target_flights = airports.select(\"ident\", \"name\", \"municipality\", \"latitude_deg\", \"longitude_deg\").join(target_flights, target_flights[\"origin\"] == airports[\"ident\"]).withColumnRenamed(\"ident\", \"src_ident\").withColumnRenamed(\"name\", \"src_name\").withColumnRenamed(\"municipality\", \"src_municipality\")\n",
        "target_flights.show()"
      ],
      "execution_count": 58,
      "outputs": [
        {
          "output_type": "stream",
          "text": [
            "+---------+--------------------+----------------+------------------+-------------------+------+-----------+--------------------+---------+-----------------+----------------+\n",
            "|src_ident|            src_name|src_municipality|      latitude_deg|      longitude_deg|origin|destination|                 day|dst_ident|         dst_name|dst_municipality|\n",
            "+---------+--------------------+----------------+------------------+-------------------+------+-----------+--------------------+---------+-----------------+----------------+\n",
            "|     KFLL|Fort Lauderdale H...| Fort Lauderdale|         26.072599|         -80.152702|  KFLL|       KDAL|2020-01-01 00:00:...|     KDAL|Dallas Love Field|          Dallas|\n",
            "|     KLGA|  La Guardia Airport|        New York|       40.77719879|       -73.87259674|  KLGA|       KDAL|2020-01-01 00:00:...|     KDAL|Dallas Love Field|          Dallas|\n",
            "|     KLAS|McCarran Internat...|       Las Vegas|       36.08010101|       -115.1520004|  KLAS|       KDAL|2020-01-01 00:00:...|     KDAL|Dallas Love Field|          Dallas|\n",
            "|     KSEA|Seattle Tacoma In...|         Seattle|         47.449001|        -122.308998|  KSEA|       KDAL|2020-01-01 00:00:...|     KDAL|Dallas Love Field|          Dallas|\n",
            "|     KDCA|Ronald Reagan Was...|      Washington|           38.8521|         -77.037697|  KDCA|       KDAL|2020-01-01 00:00:...|     KDAL|Dallas Love Field|          Dallas|\n",
            "|     KSEA|Seattle Tacoma In...|         Seattle|         47.449001|        -122.308998|  KSEA|       KDAL|2020-01-01 00:00:...|     KDAL|Dallas Love Field|          Dallas|\n",
            "|     KBWI|Baltimore/Washing...|       Baltimore|           39.1754|         -76.668297|  KBWI|       KDAL|2020-01-01 00:00:...|     KDAL|Dallas Love Field|          Dallas|\n",
            "|     KPHL|Philadelphia Inte...|    Philadelphia| 39.87189865112305| -75.24109649658203|  KPHL|       KDAL|2020-01-01 00:00:...|     KDAL|Dallas Love Field|          Dallas|\n",
            "|     KSJC|Norman Y. Mineta ...|        San Jose|         37.362598|        -121.929001|  KSJC|       KDAL|2020-01-01 00:00:...|     KDAL|Dallas Love Field|          Dallas|\n",
            "|     KMCI|Kansas City Inter...|     Kansas City|           39.2976|         -94.713898|  KMCI|       KDAL|2020-01-01 00:00:...|     KDAL|Dallas Love Field|          Dallas|\n",
            "|     KORL|Orlando Executive...|         Orlando|           28.5455|         -81.332901|  KORL|       KDAL|2020-01-01 00:00:...|     KDAL|Dallas Love Field|          Dallas|\n",
            "|     KRDU|Raleigh Durham In...|  Raleigh/Durham|35.877601623535156|  -78.7874984741211|  KRDU|       KDAL|2020-01-01 00:00:...|     KDAL|Dallas Love Field|          Dallas|\n",
            "|     KDEN|Denver Internatio...|          Denver|   39.861698150635|     -104.672996521|  KDEN|       KDAL|2020-01-01 00:00:...|     KDAL|Dallas Love Field|          Dallas|\n",
            "|     KSMF|Sacramento Intern...|      Sacramento| 38.69540023803711|-121.59100341796875|  KSMF|       KDAL|2020-01-01 00:00:...|     KDAL|Dallas Love Field|          Dallas|\n",
            "|     KLAS|McCarran Internat...|       Las Vegas|       36.08010101|       -115.1520004|  KLAS|       KDAL|2020-01-01 00:00:...|     KDAL|Dallas Love Field|          Dallas|\n",
            "|     KMDW|Chicago Midway In...|         Chicago|         41.785999|         -87.752403|  KMDW|       KDAL|2020-01-01 00:00:...|     KDAL|Dallas Love Field|          Dallas|\n",
            "|     88PA|      Mc Coy Airport|         Clinton|40.539199829100006|     -80.4131011963|  88PA|       KDAL|2020-01-01 00:00:...|     KDAL|Dallas Love Field|          Dallas|\n",
            "|     KMDW|Chicago Midway In...|         Chicago|         41.785999|         -87.752403|  KMDW|       KDAL|2020-01-01 00:00:...|     KDAL|Dallas Love Field|          Dallas|\n",
            "|     KSFO|San Francisco Int...|   San Francisco| 37.61899948120117|           -122.375|  KSFO|       KDAL|2020-01-01 00:00:...|     KDAL|Dallas Love Field|          Dallas|\n",
            "|     KHOU|William P Hobby A...|         Houston|       29.64539909|       -95.27890015|  KHOU|       KDAL|2020-01-01 00:00:...|     KDAL|Dallas Love Field|          Dallas|\n",
            "+---------+--------------------+----------------+------------------+-------------------+------+-----------+--------------------+---------+-----------------+----------------+\n",
            "only showing top 20 rows\n",
            "\n"
          ],
          "name": "stdout"
        }
      ]
    },
    {
      "cell_type": "code",
      "metadata": {
        "id": "YutoAANsXfjp",
        "colab_type": "code",
        "colab": {}
      },
      "source": [
        "# Filtering function definition  \n",
        "def date_filter(day):\n",
        "  '''\n",
        "  This filter checks if input date is in the two weeks range prior of the target date. \n",
        "  '''\n",
        "  datetime_obj = datetime.datetime.strptime(day.split(\"+\")[0], \"%Y-%m-%d %H:%M:%S\")\n",
        "  two_weeks = datetime.timedelta(days=14)\n",
        "  zero = datetime.timedelta(days=0)\n",
        "  day_difference = target_date - datetime_obj\n",
        "  if day_difference <= two_weeks and day_difference > zero:\n",
        "    return True\n",
        "  return False\n",
        "\n",
        "filter_func = udf(date_filter, BooleanType())"
      ],
      "execution_count": 0,
      "outputs": []
    },
    {
      "cell_type": "code",
      "metadata": {
        "id": "8-t1Krro5Esh",
        "colab_type": "code",
        "colab": {
          "base_uri": "https://localhost:8080/",
          "height": 479
        },
        "outputId": "dc45aadc-883c-4951-d755-c6ec8e9aadc2"
      },
      "source": [
        "# Filtering flights that are in the two weeks range prior of the spread in target city.\n",
        "target_flights = target_flights.filter(filter_func(target_flights[\"day\"]))\n",
        "target_flights.show()"
      ],
      "execution_count": 60,
      "outputs": [
        {
          "output_type": "stream",
          "text": [
            "+---------+--------------------+----------------+------------------+-----------------+------+-----------+--------------------+---------+-----------------+----------------+\n",
            "|src_ident|            src_name|src_municipality|      latitude_deg|    longitude_deg|origin|destination|                 day|dst_ident|         dst_name|dst_municipality|\n",
            "+---------+--------------------+----------------+------------------+-----------------+------+-----------+--------------------+---------+-----------------+----------------+\n",
            "|     KLGA|  La Guardia Airport|        New York|       40.77719879|     -73.87259674|  KLGA|       KDAL|2020-02-25 00:00:...|     KDAL|Dallas Love Field|          Dallas|\n",
            "|     KDCA|Ronald Reagan Was...|      Washington|           38.8521|       -77.037697|  KDCA|       KDAL|2020-02-25 00:00:...|     KDAL|Dallas Love Field|          Dallas|\n",
            "|     KSEA|Seattle Tacoma In...|         Seattle|         47.449001|      -122.308998|  KSEA|       KDAL|2020-02-25 00:00:...|     KDAL|Dallas Love Field|          Dallas|\n",
            "|     KLAX|Los Angeles Inter...|     Los Angeles|         33.942501|      -118.407997|  KLAX|       KDAL|2020-02-25 00:00:...|     KDAL|Dallas Love Field|          Dallas|\n",
            "|     KCMH|John Glenn Columb...|        Columbus|         39.998001|       -82.891899|  KCMH|       KDAL|2020-02-25 00:00:...|     KDAL|Dallas Love Field|          Dallas|\n",
            "|     KLAS|McCarran Internat...|       Las Vegas|       36.08010101|     -115.1520004|  KLAS|       KDAL|2020-02-25 00:00:...|     KDAL|Dallas Love Field|          Dallas|\n",
            "|     88PA|      Mc Coy Airport|         Clinton|40.539199829100006|   -80.4131011963|  88PA|       KDAL|2020-02-25 00:00:...|     KDAL|Dallas Love Field|          Dallas|\n",
            "|     KDEN|Denver Internatio...|          Denver|   39.861698150635|   -104.672996521|  KDEN|       KDAL|2020-02-25 00:00:...|     KDAL|Dallas Love Field|          Dallas|\n",
            "|     KBWI|Baltimore/Washing...|       Baltimore|           39.1754|       -76.668297|  KBWI|       KDAL|2020-02-25 00:00:...|     KDAL|Dallas Love Field|          Dallas|\n",
            "|     KBNA|Nashville Interna...|       Nashville|  36.1245002746582|-86.6781997680664|  KBNA|       KDAL|2020-02-25 00:00:...|     KDAL|Dallas Love Field|          Dallas|\n",
            "|     KLGA|  La Guardia Airport|        New York|       40.77719879|     -73.87259674|  KLGA|       KDAL|2020-02-25 00:00:...|     KDAL|Dallas Love Field|          Dallas|\n",
            "|     KABQ|Albuquerque Inter...|     Albuquerque|         35.040199|      -106.609001|  KABQ|       KDAL|2020-02-25 00:00:...|     KDAL|Dallas Love Field|          Dallas|\n",
            "|     KMDW|Chicago Midway In...|         Chicago|         41.785999|       -87.752403|  KMDW|       KDAL|2020-02-25 00:00:...|     KDAL|Dallas Love Field|          Dallas|\n",
            "|     KSTL|St Louis Lambert ...|        St Louis|         38.748697|       -90.370003|  KSTL|       KDAL|2020-02-25 00:00:...|     KDAL|Dallas Love Field|          Dallas|\n",
            "|     KHOU|William P Hobby A...|         Houston|       29.64539909|     -95.27890015|  KHOU|       KDAL|2020-02-25 00:00:...|     KDAL|Dallas Love Field|          Dallas|\n",
            "|     KAUS|Austin Bergstrom ...|          Austin|30.194499969482422|-97.6698989868164|  KAUS|       KDAL|2020-02-25 00:00:...|     KDAL|Dallas Love Field|          Dallas|\n",
            "|     KHOU|William P Hobby A...|         Houston|       29.64539909|     -95.27890015|  KHOU|       KDAL|2020-02-25 00:00:...|     KDAL|Dallas Love Field|          Dallas|\n",
            "|     KATL|Hartsfield Jackso...|         Atlanta|           33.6367|       -84.428101|  KATL|       KDAL|2020-02-25 00:00:...|     KDAL|Dallas Love Field|          Dallas|\n",
            "|     KLAS|McCarran Internat...|       Las Vegas|       36.08010101|     -115.1520004|  KLAS|       KDAL|2020-02-25 00:00:...|     KDAL|Dallas Love Field|          Dallas|\n",
            "|     KSFO|San Francisco Int...|   San Francisco| 37.61899948120117|         -122.375|  KSFO|       KDAL|2020-02-25 00:00:...|     KDAL|Dallas Love Field|          Dallas|\n",
            "+---------+--------------------+----------------+------------------+-----------------+------+-----------+--------------------+---------+-----------------+----------------+\n",
            "only showing top 20 rows\n",
            "\n"
          ],
          "name": "stdout"
        }
      ]
    },
    {
      "cell_type": "code",
      "metadata": {
        "id": "7961GISt45Ay",
        "colab_type": "code",
        "outputId": "f2784305-1aa9-42f5-e1f3-6f4c65318e83",
        "colab": {
          "base_uri": "https://localhost:8080/",
          "height": 459
        }
      },
      "source": [
        "# Grouping all flights by origin city and county, sort by count in descending order.\n",
        "incoming_flight_info = target_flights.groupBy(\"src_municipality\", \"latitude_deg\", \"longitude_deg\").count().orderBy(desc(\"count\"))\n",
        "incoming_flight_info.show()"
      ],
      "execution_count": 61,
      "outputs": [
        {
          "output_type": "stream",
          "text": [
            "+----------------+------------------+-------------------+-----+\n",
            "|src_municipality|      latitude_deg|      longitude_deg|count|\n",
            "+----------------+------------------+-------------------+-----+\n",
            "|         Houston|       29.64539909|       -95.27890015|  224|\n",
            "|         Atlanta|           33.6367|         -84.428101|  151|\n",
            "|     San Antonio|         29.533701|         -98.469803|  141|\n",
            "|          Austin|30.194499969482422|  -97.6698989868164|  140|\n",
            "|       Las Vegas|       36.08010101|       -115.1520004|  120|\n",
            "|          Denver|   39.861698150635|     -104.672996521|  115|\n",
            "|     Los Angeles|         33.942501|        -118.407997|  109|\n",
            "|         Chicago|         41.785999|         -87.752403|  102|\n",
            "|         Phoenix| 33.43429946899414|-112.01200103759766|   95|\n",
            "|        St Louis|         38.748697|         -90.370003|   90|\n",
            "|     Kansas City|           39.2976|         -94.713898|   87|\n",
            "|       Baltimore|           39.1754|         -76.668297|   68|\n",
            "|       Nashville|  36.1245002746582|  -86.6781997680664|   66|\n",
            "|     Albuquerque|         35.040199|        -106.609001|   65|\n",
            "|        New York|       40.77719879|       -73.87259674|   64|\n",
            "|      Washington|           38.8521|         -77.037697|   63|\n",
            "|       San Diego|     32.7336006165|     -117.190002441|   57|\n",
            "|         Seattle|         47.449001|        -122.308998|   55|\n",
            "|           Tulsa| 36.19839859008789| -95.88809967041016|   51|\n",
            "| Fort Lauderdale|         26.072599|         -80.152702|   50|\n",
            "+----------------+------------------+-------------------+-----+\n",
            "only showing top 20 rows\n",
            "\n"
          ],
          "name": "stdout"
        }
      ]
    },
    {
      "cell_type": "code",
      "metadata": {
        "id": "G1ENkkK96AJr",
        "colab_type": "code",
        "colab": {}
      },
      "source": [
        "# Function definition for adding county column\n",
        "geolocator = Nominatim(user_agent = \"flights_analysis\", timeout=100)\n",
        "\n",
        "def add_county(lat, lng):\n",
        "  '''\n",
        "  This function adds county column to caller dataframe\n",
        "  '''\n",
        "  geo_str = str(lat) + \", \" + str(lng)\n",
        "  location = geolocator.reverse(geo_str).raw\n",
        "  try:\n",
        "    county_full = location[\"address\"][\"county\"]\n",
        "    county = \" \".join(county_full.split(\" \")[:-1])\n",
        "    return county\n",
        "  except KeyError:\n",
        "    return \"null\"\n",
        "\n",
        "def add_state(lat, lng):\n",
        "  '''\n",
        "  This function adds state column to caller dataframe\n",
        "  '''\n",
        "  geo_str = str(lat) + \", \" + str(lng)\n",
        "  location = geolocator.reverse(geo_str).raw\n",
        "  try:\n",
        "    state = location[\"address\"][\"state\"]\n",
        "    return state\n",
        "  except KeyError:\n",
        "    return \"null\"\n",
        "\n",
        "add_county_func = udf(add_county, StringType())\n",
        "add_state_func = udf(add_state, StringType())"
      ],
      "execution_count": 0,
      "outputs": []
    },
    {
      "cell_type": "code",
      "metadata": {
        "id": "fhRFpRltKF3-",
        "colab_type": "code",
        "colab": {}
      },
      "source": [
        "# Adding county column\n",
        "incoming_flight_info = incoming_flight_info.withColumn(\"county\", add_county_func(incoming_flight_info[\"latitude_deg\"], incoming_flight_info[\"longitude_deg\"])).withColumn(\"state\", add_state_func(incoming_flight_info[\"latitude_deg\"], incoming_flight_info[\"longitude_deg\"]))\n",
        "# Extract key information\n",
        "key_info = incoming_flight_info.groupBy(\"county\", \"state\").sum(\"count\").collect()"
      ],
      "execution_count": 0,
      "outputs": []
    },
    {
      "cell_type": "code",
      "metadata": {
        "id": "f3KZEhe53Ytm",
        "colab_type": "code",
        "colab": {
          "base_uri": "https://localhost:8080/",
          "height": 459
        },
        "outputId": "77708cab-e669-4435-b8ad-16ccebc6581e"
      },
      "source": [
        "# Reconstruct dataframe to avoid long processing time of adding state and county column\n",
        "key_info_df = spark.createDataFrame(key_info).orderBy(desc(\"sum(count)\"))\n",
        "key_info_df.show()"
      ],
      "execution_count": 65,
      "outputs": [
        {
          "output_type": "stream",
          "text": [
            "+------------+----------+----------+\n",
            "|      county|     state|sum(count)|\n",
            "+------------+----------+----------+\n",
            "|      Harris|     Texas|       226|\n",
            "|     Clayton|   Georgia|       151|\n",
            "|       Bexar|     Texas|       144|\n",
            "|      Travis|     Texas|       140|\n",
            "| Los Angeles|California|       123|\n",
            "|       Clark|    Nevada|       120|\n",
            "|      Denver|  Colorado|       115|\n",
            "|        Cook|  Illinois|       103|\n",
            "|    Maricopa|   Arizona|        96|\n",
            "| Saint Louis|  Missouri|        90|\n",
            "|      Platte|  Missouri|        87|\n",
            "|Anne Arundel|  Maryland|        68|\n",
            "|    Davidson| Tennessee|        66|\n",
            "|  Bernalillo|New Mexico|        65|\n",
            "|      Queens|  New York|        64|\n",
            "|   Arlington|  Virginia|        63|\n",
            "|   San Diego|California|        57|\n",
            "|        King|Washington|        55|\n",
            "|       Tulsa|  Oklahoma|        52|\n",
            "|     Broward|   Florida|        50|\n",
            "+------------+----------+----------+\n",
            "only showing top 20 rows\n",
            "\n"
          ],
          "name": "stdout"
        }
      ]
    },
    {
      "cell_type": "code",
      "metadata": {
        "id": "cIcx4tpdngQh",
        "colab_type": "code",
        "colab": {
          "base_uri": "https://localhost:8080/",
          "height": 459
        },
        "outputId": "be5a1c95-0d1e-4646-9be4-e2bcbe93ee0b"
      },
      "source": [
        "# Finding out when COVID-19 started spreading in each county\n",
        "spread_start = disease.orderBy(\"date\").groupBy(\"county\", \"state\").agg(first(\"date\")).withColumnRenamed(\"county\", \"spread_county\").withColumnRenamed(\"state\", \"spread_state\").withColumnRenamed(\"first(date, false)\", \"start_date\")\n",
        "spread_start.show()"
      ],
      "execution_count": 66,
      "outputs": [
        {
          "output_type": "stream",
          "text": [
            "+-------------+--------------+-------------------+\n",
            "|spread_county|  spread_state|         start_date|\n",
            "+-------------+--------------+-------------------+\n",
            "|      Pulaski|      Arkansas|2020-03-12 00:00:00|\n",
            "|       Orange|       Florida|2020-03-13 00:00:00|\n",
            "|       Mercer|    New Jersey|2020-03-14 00:00:00|\n",
            "|   Winneshiek|          Iowa|2020-03-18 00:00:00|\n",
            "|   Washington|       Alabama|2020-03-20 00:00:00|\n",
            "|      Pickens|       Georgia|2020-03-20 00:00:00|\n",
            "|      Chisago|     Minnesota|2020-03-20 00:00:00|\n",
            "|        Grant|     Louisiana|2020-03-23 00:00:00|\n",
            "|   Pennington|  South Dakota|2020-03-23 00:00:00|\n",
            "|        Stone|      Arkansas|2020-03-24 00:00:00|\n",
            "|    Claiborne|     Tennessee|2020-03-24 00:00:00|\n",
            "|         Iron|     Wisconsin|2020-03-27 00:00:00|\n",
            "|    Covington|   Mississippi|2020-03-28 00:00:00|\n",
            "|    Henderson|         Texas|2020-03-29 00:00:00|\n",
            "|       Sumter|       Alabama|2020-03-30 00:00:00|\n",
            "|   Washington|         Idaho|2020-04-02 00:00:00|\n",
            "|       Murray|      Oklahoma|2020-04-10 00:00:00|\n",
            "|        Berks|  Pennsylvania|2020-03-18 00:00:00|\n",
            "|       Sumner|     Tennessee|2020-03-18 00:00:00|\n",
            "|     Scotland|North Carolina|2020-03-22 00:00:00|\n",
            "+-------------+--------------+-------------------+\n",
            "only showing top 20 rows\n",
            "\n"
          ],
          "name": "stdout"
        }
      ]
    },
    {
      "cell_type": "code",
      "metadata": {
        "id": "PdcVX2ERpNNH",
        "colab_type": "code",
        "colab": {
          "base_uri": "https://localhost:8080/",
          "height": 459
        },
        "outputId": "65204857-657b-47e6-f679-1e9c73fa0685"
      },
      "source": [
        "# Join spread_start and incoming_flight_info\n",
        "key_info_df = key_info_df.join(spread_start, (key_info_df[\"county\"]==spread_start[\"spread_county\"]) &(key_info_df[\"state\"]==spread_start[\"spread_state\"])).drop(\"spread_county\", \"spread_state\")\n",
        "key_info_df.show()"
      ],
      "execution_count": 67,
      "outputs": [
        {
          "output_type": "stream",
          "text": [
            "+------------+----------+----------+-------------------+\n",
            "|      county|     state|sum(count)|         start_date|\n",
            "+------------+----------+----------+-------------------+\n",
            "|      Harris|     Texas|       226|2020-03-05 00:00:00|\n",
            "|     Clayton|   Georgia|       151|2020-03-15 00:00:00|\n",
            "|       Bexar|     Texas|       144|2020-02-12 00:00:00|\n",
            "|      Travis|     Texas|       140|2020-03-13 00:00:00|\n",
            "| Los Angeles|California|       123|2020-01-26 00:00:00|\n",
            "|       Clark|    Nevada|       120|2020-03-05 00:00:00|\n",
            "|      Denver|  Colorado|       115|2020-03-06 00:00:00|\n",
            "|        Cook|  Illinois|       103|2020-01-24 00:00:00|\n",
            "|    Maricopa|   Arizona|        96|2020-01-26 00:00:00|\n",
            "|      Platte|  Missouri|        87|2020-03-25 00:00:00|\n",
            "|Anne Arundel|  Maryland|        68|2020-03-13 00:00:00|\n",
            "|    Davidson| Tennessee|        66|2020-03-08 00:00:00|\n",
            "|  Bernalillo|New Mexico|        65|2020-03-11 00:00:00|\n",
            "|   Arlington|  Virginia|        63|2020-03-11 00:00:00|\n",
            "|   San Diego|California|        57|2020-02-10 00:00:00|\n",
            "|        King|Washington|        55|2020-02-28 00:00:00|\n",
            "|       Tulsa|  Oklahoma|        52|2020-03-06 00:00:00|\n",
            "|     Broward|   Florida|        50|2020-03-06 00:00:00|\n",
            "|   Multnomah|    Oregon|        36|2020-03-10 00:00:00|\n",
            "|Hillsborough|   Florida|        35|2020-03-01 00:00:00|\n",
            "+------------+----------+----------+-------------------+\n",
            "only showing top 20 rows\n",
            "\n"
          ],
          "name": "stdout"
        }
      ]
    },
    {
      "cell_type": "code",
      "metadata": {
        "id": "SyYrVvWE8H-T",
        "colab_type": "code",
        "colab": {}
      },
      "source": [
        "# Function definition for adding day difference with target date\n",
        "def add_day_difference(day):\n",
        "  '''\n",
        "  This function adds day difference between target date and input date\n",
        "  '''\n",
        "  day_difference = target_date - day\n",
        "  return day_difference.days\n",
        "\n",
        "add_difference_func = udf(add_day_difference, IntegerType())"
      ],
      "execution_count": 0,
      "outputs": []
    },
    {
      "cell_type": "code",
      "metadata": {
        "id": "O7U5ABS8-47q",
        "colab_type": "code",
        "colab": {
          "base_uri": "https://localhost:8080/",
          "height": 459
        },
        "outputId": "a19e24e9-2136-479d-bbc2-0200e999c2e0"
      },
      "source": [
        "# Adding day difference column to dataframe\n",
        "key_info_df = key_info_df.withColumn(\"day_difference\", add_difference_func(key_info_df[\"start_date\"]))\n",
        "key_info_df.show()"
      ],
      "execution_count": 69,
      "outputs": [
        {
          "output_type": "stream",
          "text": [
            "+------------+----------+----------+-------------------+--------------+\n",
            "|      county|     state|sum(count)|         start_date|day_difference|\n",
            "+------------+----------+----------+-------------------+--------------+\n",
            "|      Harris|     Texas|       226|2020-03-05 00:00:00|             5|\n",
            "|     Clayton|   Georgia|       151|2020-03-15 00:00:00|            -5|\n",
            "|       Bexar|     Texas|       144|2020-02-12 00:00:00|            27|\n",
            "|      Travis|     Texas|       140|2020-03-13 00:00:00|            -3|\n",
            "| Los Angeles|California|       123|2020-01-26 00:00:00|            44|\n",
            "|       Clark|    Nevada|       120|2020-03-05 00:00:00|             5|\n",
            "|      Denver|  Colorado|       115|2020-03-06 00:00:00|             4|\n",
            "|        Cook|  Illinois|       103|2020-01-24 00:00:00|            46|\n",
            "|    Maricopa|   Arizona|        96|2020-01-26 00:00:00|            44|\n",
            "|      Platte|  Missouri|        87|2020-03-25 00:00:00|           -15|\n",
            "|Anne Arundel|  Maryland|        68|2020-03-13 00:00:00|            -3|\n",
            "|    Davidson| Tennessee|        66|2020-03-08 00:00:00|             2|\n",
            "|  Bernalillo|New Mexico|        65|2020-03-11 00:00:00|            -1|\n",
            "|   Arlington|  Virginia|        63|2020-03-11 00:00:00|            -1|\n",
            "|   San Diego|California|        57|2020-02-10 00:00:00|            29|\n",
            "|        King|Washington|        55|2020-02-28 00:00:00|            11|\n",
            "|       Tulsa|  Oklahoma|        52|2020-03-06 00:00:00|             4|\n",
            "|     Broward|   Florida|        50|2020-03-06 00:00:00|             4|\n",
            "|   Multnomah|    Oregon|        36|2020-03-10 00:00:00|             0|\n",
            "|Hillsborough|   Florida|        35|2020-03-01 00:00:00|             9|\n",
            "+------------+----------+----------+-------------------+--------------+\n",
            "only showing top 20 rows\n",
            "\n"
          ],
          "name": "stdout"
        }
      ]
    },
    {
      "cell_type": "code",
      "metadata": {
        "id": "Uj4R7G7QDXpS",
        "colab_type": "code",
        "colab": {
          "base_uri": "https://localhost:8080/",
          "height": 459
        },
        "outputId": "4c2b1459-1ae3-4117-bce6-e68327548843"
      },
      "source": [
        "# We only care about the counties that had the virus before target date\n",
        "key_info_df = key_info_df.filter(key_info_df[\"day_difference\"] > 0)\n",
        "key_info_df.show()"
      ],
      "execution_count": 70,
      "outputs": [
        {
          "output_type": "stream",
          "text": [
            "+------------+--------------+----------+-------------------+--------------+\n",
            "|      county|         state|sum(count)|         start_date|day_difference|\n",
            "+------------+--------------+----------+-------------------+--------------+\n",
            "|      Harris|         Texas|       226|2020-03-05 00:00:00|             5|\n",
            "|       Bexar|         Texas|       144|2020-02-12 00:00:00|            27|\n",
            "| Los Angeles|    California|       123|2020-01-26 00:00:00|            44|\n",
            "|       Clark|        Nevada|       120|2020-03-05 00:00:00|             5|\n",
            "|      Denver|      Colorado|       115|2020-03-06 00:00:00|             4|\n",
            "|        Cook|      Illinois|       103|2020-01-24 00:00:00|            46|\n",
            "|    Maricopa|       Arizona|        96|2020-01-26 00:00:00|            44|\n",
            "|    Davidson|     Tennessee|        66|2020-03-08 00:00:00|             2|\n",
            "|   San Diego|    California|        57|2020-02-10 00:00:00|            29|\n",
            "|        King|    Washington|        55|2020-02-28 00:00:00|            11|\n",
            "|       Tulsa|      Oklahoma|        52|2020-03-06 00:00:00|             4|\n",
            "|     Broward|       Florida|        50|2020-03-06 00:00:00|             4|\n",
            "|Hillsborough|       Florida|        35|2020-03-01 00:00:00|             9|\n",
            "| Santa Clara|    California|        30|2020-01-31 00:00:00|            39|\n",
            "|     Alameda|    California|        26|2020-03-01 00:00:00|             9|\n",
            "|   San Mateo|    California|        26|2020-03-02 00:00:00|             8|\n",
            "|        Wake|North Carolina|        17|2020-03-03 00:00:00|             7|\n",
            "|     Douglas|      Nebraska|        14|2020-02-17 00:00:00|            22|\n",
            "|   Jefferson|      Kentucky|        14|2020-03-08 00:00:00|             2|\n",
            "|  Sacramento|    California|        13|2020-02-21 00:00:00|            18|\n",
            "+------------+--------------+----------+-------------------+--------------+\n",
            "only showing top 20 rows\n",
            "\n"
          ],
          "name": "stdout"
        }
      ]
    },
    {
      "cell_type": "code",
      "metadata": {
        "id": "Zd5oYMWZcDv0",
        "colab_type": "code",
        "colab": {
          "base_uri": "https://localhost:8080/",
          "height": 459
        },
        "outputId": "13f46814-7659-4e1f-e8b6-d13cdbbee3af"
      },
      "source": [
        "# Add case number for each county on the target date\n",
        "key_info_df = key_info_df.withColumnRenamed(\"county\", \"k_county\").withColumnRenamed(\"state\", \"k_state\")\n",
        "key_info_df = key_info_df.join(disease, (key_info_df[\"k_county\"]==disease[\"county\"]) & (key_info_df[\"k_state\"]==disease[\"state\"]) & (disease[\"date\"]==target_date)).select(\"county\", \"state\", \"sum(count)\", \"start_date\", \"day_difference\", \"cases\")\n",
        "key_info_df.show()"
      ],
      "execution_count": 71,
      "outputs": [
        {
          "output_type": "stream",
          "text": [
            "+------------+--------------+----------+-------------------+--------------+-----+\n",
            "|      county|         state|sum(count)|         start_date|day_difference|cases|\n",
            "+------------+--------------+----------+-------------------+--------------+-----+\n",
            "|      Harris|         Texas|       226|2020-03-05 00:00:00|             5|    7|\n",
            "|       Bexar|         Texas|       144|2020-02-12 00:00:00|            27|   11|\n",
            "| Los Angeles|    California|       123|2020-01-26 00:00:00|            44|   20|\n",
            "|       Clark|        Nevada|       120|2020-03-05 00:00:00|             5|    2|\n",
            "|      Denver|      Colorado|       115|2020-03-06 00:00:00|             4|    4|\n",
            "|        Cook|      Illinois|       103|2020-01-24 00:00:00|            46|   17|\n",
            "|    Maricopa|       Arizona|        96|2020-01-26 00:00:00|            44|    2|\n",
            "|    Davidson|     Tennessee|        66|2020-03-08 00:00:00|             2|    1|\n",
            "|   San Diego|    California|        57|2020-02-10 00:00:00|            29|    2|\n",
            "|        King|    Washington|        55|2020-02-28 00:00:00|            11|  191|\n",
            "|       Tulsa|      Oklahoma|        52|2020-03-06 00:00:00|             4|    2|\n",
            "|     Broward|       Florida|        50|2020-03-06 00:00:00|             4|    4|\n",
            "|Hillsborough|       Florida|        35|2020-03-01 00:00:00|             9|    2|\n",
            "| Santa Clara|    California|        30|2020-01-31 00:00:00|            39|   45|\n",
            "|     Alameda|    California|        26|2020-03-01 00:00:00|             9|   25|\n",
            "|   San Mateo|    California|        26|2020-03-02 00:00:00|             8|    9|\n",
            "|        Wake|North Carolina|        17|2020-03-03 00:00:00|             7|    6|\n",
            "|     Douglas|      Nebraska|        14|2020-02-17 00:00:00|            22|   17|\n",
            "|   Jefferson|      Kentucky|        14|2020-03-08 00:00:00|             2|    1|\n",
            "|  Sacramento|    California|        13|2020-02-21 00:00:00|            18|    9|\n",
            "+------------+--------------+----------+-------------------+--------------+-----+\n",
            "only showing top 20 rows\n",
            "\n"
          ],
          "name": "stdout"
        }
      ]
    },
    {
      "cell_type": "markdown",
      "metadata": {
        "id": "6pfSyMRXD3ac",
        "colab_type": "text"
      },
      "source": [
        "# Visualization"
      ]
    },
    {
      "cell_type": "code",
      "metadata": {
        "id": "QDxYenGYD9Kb",
        "colab_type": "code",
        "colab": {}
      },
      "source": [
        "# Collecting information\n",
        "county_state_info = key_info_df.select(\"county\", \"state\").collect()\n",
        "flight_count_info = key_info_df.select(\"sum(count)\").collect()\n",
        "day_difference_info = key_info_df.select(\"day_difference\").collect()\n",
        "case_number_info = key_info_df.select(\"cases\").collect()"
      ],
      "execution_count": 0,
      "outputs": []
    },
    {
      "cell_type": "code",
      "metadata": {
        "id": "NgocDny4LfkJ",
        "colab_type": "code",
        "colab": {}
      },
      "source": [
        "# Covert lists of rows to lists of primitives\n",
        "county_state_list = [row[\"county\"]+\",\"+row[\"state\"] for row in county_state_info]\n",
        "flight_count_list = [row[\"sum(count)\"] for row in flight_count_info]\n",
        "day_difference_list = [row[\"day_difference\"] for row in day_difference_info]\n",
        "case_number_list = [row[\"cases\"] for row in case_number_info]"
      ],
      "execution_count": 0,
      "outputs": []
    },
    {
      "cell_type": "code",
      "metadata": {
        "id": "zvojdPUONM2s",
        "colab_type": "code",
        "colab": {
          "base_uri": "https://localhost:8080/",
          "height": 725
        },
        "outputId": "1858a1b6-0325-4422-f72f-9f62aa79f066"
      },
      "source": [
        "# Generate stacked bar graph\n",
        "bar_width = 0.5\n",
        "fig, ax = plt.subplots(figsize=(20, 10))\n",
        "\n",
        "both_bars = np.add(flight_count_list, day_difference_list).tolist()\n",
        "\n",
        "ax.bar(county_state_list, flight_count_list, bar_width, label='Flight Count')\n",
        "ax.bar(county_state_list, day_difference_list, bar_width, bottom = flight_count_list, label='Day Difference')\n",
        "ax.bar(county_state_list, case_number_list, bar_width, bottom = both_bars, label='Case Number')\n",
        "\n",
        "ax.set_ylabel('Likelihood')\n",
        "ax.set_title('Likelihood of cities \"infected\" ' + target_city + \", \" + target_state)\n",
        "ax.legend()\n",
        "\n",
        "for ax in fig.axes:\n",
        "  plt.sca(ax)\n",
        "  plt.xticks(rotation=90)"
      ],
      "execution_count": 74,
      "outputs": [
        {
          "output_type": "display_data",
          "data": {
            "image/png": "[encoded data removed]",
            "text/plain": [
              "<Figure size 1440x720 with 1 Axes>"
            ]
          },
          "metadata": {
            "tags": [],
            "needs_background": "light"
          }
        }
      ]
    },
    {
      "cell_type": "markdown",
      "metadata": {
        "id": "LGjQnaL50njj",
        "colab_type": "text"
      },
      "source": [
        "# Conclusion\n",
        "\n",
        "As stated at the beginning of this notebook, we are trying to determine how air travel helped the spread of COVID-19. More specifically, we want to be able to select a random city, analyze its incoming flights and determine which county could possibly \"infected\" the selected city. For decision making, we took three factor into account:\n",
        "\n",
        "*   Amount of incoming flight during the two weeks before COVID-19 started spreading in target city (we will call these two weeks ***target weeks***). Reason being that the probability of infectants traveled to target city increases as the amount of incoming flight increases.\n",
        "*   Day difference between spread start date at the target city and spread start date for each county that had flights arrived at target city (we will call these counties ***target county***) during the ***target weeks***. Reason being that a larger date difference means more travelers, therefore the probability of infectants traveled to target city increases. \n",
        "*   COVID-19 case number of each ***target county*** on the target date. Reason being that as the case number increases, the probability of infectants traveled to target city increases.\n",
        "\n",
        "For illustration putposes, we selected Dallas Texas as an example. From the graph above, we can see that there were lots of flights came to Dallas from the county of Harris in Texas, however, the value of day difference and case number is relatively small. Therefore, it is less likely that Harris county \"infected\" Dallas. Take a look at the county of King in Washington, the value of case number is sky high, and the day difference is larger than it was for Harris, even though it has less flights coming to Dallas, it is safe to claim that the county of King in Washington might have helped the spread of COVID-19 in Dallas, at least more than the county of Harris did. \n",
        "\n",
        "Please note that there are tons of factors that facilitated the spread of COVID-19 in the United States, this experiment only attempted to analyze the potential influence of domestic flights. Therefore, the result of this experiment cannot be used to fully explain how COVID-19 was spread to target city.\n",
        "\n",
        "\n"
      ]
    },
    {
      "cell_type": "markdown",
      "metadata": {
        "id": "E9O9KQgr5QyH",
        "colab_type": "text"
      },
      "source": [
        "# Possible Further Improvement\n",
        "\n",
        "Currently, we simply added up the value of the three factor mentioned above for each ***target county***, however, we think a weighted sum could better reflect the influence of each ***target county***. However, to determine the weight for each factor, further researches and experiments are necessary. \n"
      ]
    }
  ]
}