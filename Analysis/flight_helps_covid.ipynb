{
  "nbformat": 4,
  "nbformat_minor": 0,
  "metadata": {
    "colab": {
      "name": "flight_helps_covid.ipynb",
      "provenance": [],
      "mount_file_id": "1BY29XjpVQpHWUdOUhJ-BJx_PcHNyfrqv",
      "authorship_tag": "ABX9TyN608kyA8T+Z6ADHs4KrBiV",
      "include_colab_link": true
    },
    "kernelspec": {
      "name": "python3",
      "display_name": "Python 3"
    }
  },
  "cells": [
    {
      "cell_type": "markdown",
      "metadata": {
        "id": "view-in-github",
        "colab_type": "text"
      },
      "source": [
        "<a href=\"https://colab.research.google.com/github/shantanutrip/covid_flight_analysis/blob/master/Analysis/flight_helps_covid.ipynb\" target=\"_parent\"><img src=\"https://colab.research.google.com/assets/colab-badge.svg\" alt=\"Open In Colab\"/></a>"
      ]
    },
    {
      "cell_type": "markdown",
      "metadata": {
        "id": "70KSTgQx_cJO",
        "colab_type": "text"
      },
      "source": [
        "# This notebook aims to discover how air travel helped the spread of COVID-19 "
      ]
    },
    {
      "cell_type": "markdown",
      "metadata": {
        "id": "hRKj1hv8FA3O",
        "colab_type": "text"
      },
      "source": [
        "# Install dependencies"
      ]
    },
    {
      "cell_type": "code",
      "metadata": {
        "id": "-5CndsKii1UT",
        "colab_type": "code",
        "colab": {
          "base_uri": "https://localhost:8080/",
          "height": 258
        },
        "outputId": "d1f4e780-5f1e-446d-9afc-33f9a9e522e2"
      },
      "source": [
        "# Install spark-related dependencies\n",
        "!apt-get install openjdk-8-jdk-headless -qq > /dev/null\n",
        "!wget -q https://downloads.apache.org/spark/spark-2.4.5/spark-2.4.5-bin-hadoop2.7.tgz\n",
        "!tar xf spark-2.4.5-bin-hadoop2.7.tgz\n",
        "!pip install -q findspark\n",
        "!pip install pyspark\n",
        "\n",
        "# Set up required environment variables\n",
        "import os\n",
        "os.environ[\"JAVA_HOME\"] = \"/usr/lib/jvm/java-8-openjdk-amd64\"\n",
        "os.environ[\"SPARK_HOME\"] = \"/content/spark-2.4.5-bin-hadoop2.7\""
      ],
      "execution_count": 1,
      "outputs": [
        {
          "output_type": "stream",
          "text": [
            "Collecting pyspark\n",
            "\u001b[?25l  Downloading https://files.pythonhosted.org/packages/9a/5a/271c416c1c2185b6cb0151b29a91fff6fcaed80173c8584ff6d20e46b465/pyspark-2.4.5.tar.gz (217.8MB)\n",
            "\u001b[K     |████████████████████████████████| 217.8MB 55kB/s \n",
            "\u001b[?25hCollecting py4j==0.10.7\n",
            "\u001b[?25l  Downloading https://files.pythonhosted.org/packages/e3/53/c737818eb9a7dc32a7cd4f1396e787bd94200c3997c72c1dbe028587bd76/py4j-0.10.7-py2.py3-none-any.whl (197kB)\n",
            "\u001b[K     |████████████████████████████████| 204kB 46.5MB/s \n",
            "\u001b[?25hBuilding wheels for collected packages: pyspark\n",
            "  Building wheel for pyspark (setup.py) ... \u001b[?25l\u001b[?25hdone\n",
            "  Created wheel for pyspark: filename=pyspark-2.4.5-py2.py3-none-any.whl size=218257927 sha256=7aca671764ee67722b4d5dc0f1f054d8e5ac1f465789f20a1aa464ecbe81a5e1\n",
            "  Stored in directory: /root/.cache/pip/wheels/bf/db/04/61d66a5939364e756eb1c1be4ec5bdce6e04047fc7929a3c3c\n",
            "Successfully built pyspark\n",
            "Installing collected packages: py4j, pyspark\n",
            "Successfully installed py4j-0.10.7 pyspark-2.4.5\n"
          ],
          "name": "stdout"
        }
      ]
    },
    {
      "cell_type": "markdown",
      "metadata": {
        "id": "7vpFrw0pFIrP",
        "colab_type": "text"
      },
      "source": [
        "# Download data\n",
        "\n"
      ]
    },
    {
      "cell_type": "code",
      "metadata": {
        "id": "xpF1CD2rsDKw",
        "colab_type": "code",
        "colab": {
          "base_uri": "https://localhost:8080/",
          "height": 391
        },
        "outputId": "cb21b972-e614-4fb7-f901-8bce7c39a4ce"
      },
      "source": [
        "!wget https://raw.githubusercontent.com/nytimes/covid-19-data/master/us-counties.csv\n",
        "!wget https://ourairports.com/data/airports.csv"
      ],
      "execution_count": 2,
      "outputs": [
        {
          "output_type": "stream",
          "text": [
            "--2020-05-07 07:16:16--  https://raw.githubusercontent.com/nytimes/covid-19-data/master/us-counties.csv\n",
            "Resolving raw.githubusercontent.com (raw.githubusercontent.com)... 151.101.0.133, 151.101.64.133, 151.101.128.133, ...\n",
            "Connecting to raw.githubusercontent.com (raw.githubusercontent.com)|151.101.0.133|:443... connected.\n",
            "HTTP request sent, awaiting response... 200 OK\n",
            "Length: 4638665 (4.4M) [text/plain]\n",
            "Saving to: ‘us-counties.csv’\n",
            "\n",
            "\rus-counties.csv       0%[                    ]       0  --.-KB/s               \rus-counties.csv      38%[======>             ]   1.72M  8.59MB/s               \rus-counties.csv     100%[===================>]   4.42M  14.2MB/s    in 0.3s    \n",
            "\n",
            "2020-05-07 07:16:16 (14.2 MB/s) - ‘us-counties.csv’ saved [4638665/4638665]\n",
            "\n",
            "--2020-05-07 07:16:17--  https://ourairports.com/data/airports.csv\n",
            "Resolving ourairports.com (ourairports.com)... 206.71.179.167\n",
            "Connecting to ourairports.com (ourairports.com)|206.71.179.167|:443... connected.\n",
            "HTTP request sent, awaiting response... 200 OK\n",
            "Length: 8475889 (8.1M) [text/csv]\n",
            "Saving to: ‘airports.csv’\n",
            "\n",
            "airports.csv        100%[===================>]   8.08M  20.3MB/s    in 0.4s    \n",
            "\n",
            "2020-05-07 07:16:17 (20.3 MB/s) - ‘airports.csv’ saved [8475889/8475889]\n",
            "\n"
          ],
          "name": "stdout"
        }
      ]
    },
    {
      "cell_type": "markdown",
      "metadata": {
        "id": "JuC0BqVxsRVg",
        "colab_type": "text"
      },
      "source": [
        "# Execution "
      ]
    },
    {
      "cell_type": "code",
      "metadata": {
        "id": "aUeOL-dWr_b0",
        "colab_type": "code",
        "colab": {}
      },
      "source": [
        "import findspark\n",
        "findspark.init(\"spark-2.4.5-bin-hadoop2.7\")\n",
        "from pyspark.sql import SparkSession\n",
        "spark = SparkSession.builder.master(\"local[*]\").getOrCreate()\n",
        "\n",
        "airports = spark.read.format(\"csv\").options(header=\"true\").load(\"/content/airports.csv\")\n",
        "disease = spark.read.format(\"csv\").options(header=\"true\", inferSchema=\"true\").load(\"/content/us-counties.csv\")\n",
        "# Change merged_flight.csv path accordingly\n",
        "all_flights = spark.read.format(\"csv\").options(header=\"true\", inferSchema=\"true\").load(\"/content/drive/My Drive/Big Data Final Project/Data/merged_flight.csv\")"
      ],
      "execution_count": 0,
      "outputs": []
    },
    {
      "cell_type": "code",
      "metadata": {
        "id": "srnqxOQlXQs3",
        "colab_type": "code",
        "colab": {}
      },
      "source": [
        "from pyspark.sql.types import *\n",
        "from pyspark.sql.functions import *\n",
        "from pyspark.sql.types import *\n",
        "import datetime"
      ],
      "execution_count": 0,
      "outputs": []
    },
    {
      "cell_type": "code",
      "metadata": {
        "id": "z8Xs7t2IVqDY",
        "colab_type": "code",
        "colab": {}
      },
      "source": [
        "# Select target city(county) and state.\n",
        "target_county = \"Dallas\"\n",
        "target_state = \"Texas\""
      ],
      "execution_count": 0,
      "outputs": []
    },
    {
      "cell_type": "code",
      "metadata": {
        "id": "wRyETMx5Vopc",
        "colab_type": "code",
        "colab": {
          "base_uri": "https://localhost:8080/",
          "height": 34
        },
        "outputId": "22749185-0817-4bff-cf31-52eed112f750"
      },
      "source": [
        "# Finding out when COVID-19 started spreading in target city(county).\n",
        "target_date = disease.filter((disease[\"county\"] == target_county) & (disease[\"state\"] == target_state)).orderBy(\"date\").first()[\"date\"]\n",
        "print(target_date)"
      ],
      "execution_count": 6,
      "outputs": [
        {
          "output_type": "stream",
          "text": [
            "2020-03-10 00:00:00\n"
          ],
          "name": "stdout"
        }
      ]
    },
    {
      "cell_type": "code",
      "metadata": {
        "id": "SsbwugdOn1iu",
        "colab_type": "code",
        "colab": {
          "base_uri": "https://localhost:8080/",
          "height": 119
        },
        "outputId": "7b7e26d7-2321-4dd1-8ff9-87a299549e96"
      },
      "source": [
        "# Finding out the airports' ICAO code and name for the target city(county).\n",
        "target_airports = airports.filter((airports[\"municipality\"] == target_county) & ((airports[\"type\"] == \"large_airport\") | (airports[\"type\"] == \"medium_airport\"))).select(\"ident\", \"name\", \"municipality\")\n",
        "target_airports.show()"
      ],
      "execution_count": 7,
      "outputs": [
        {
          "output_type": "stream",
          "text": [
            "+-----+-----------------+------------+\n",
            "|ident|             name|municipality|\n",
            "+-----+-----------------+------------+\n",
            "| KDAL|Dallas Love Field|      Dallas|\n",
            "+-----+-----------------+------------+\n",
            "\n"
          ],
          "name": "stdout"
        }
      ]
    },
    {
      "cell_type": "code",
      "metadata": {
        "id": "4iXLXKXCpo9f",
        "colab_type": "code",
        "colab": {
          "base_uri": "https://localhost:8080/",
          "height": 479
        },
        "outputId": "040d69ba-d223-442f-9b00-6447e896f79e"
      },
      "source": [
        "# Finding out all flights that landed in target city(county) in the first 4 months of 2020,\n",
        "# including flights' orgin city(county).\n",
        "target_flights = all_flights.filter(all_flights[\"origin\"] != \"null\").join(target_airports, target_airports[\"ident\"] == all_flights[\"destination\"]).withColumnRenamed(\"ident\", \"dst_ident\").withColumnRenamed(\"name\", \"dst_name\").withColumnRenamed(\"municipality\", \"dst_municipality\")\n",
        "target_flights_complete = airports.select(\"ident\", \"name\", \"municipality\").join(target_flights, target_flights[\"origin\"] == airports[\"ident\"]).withColumnRenamed(\"ident\", \"src_ident\").withColumnRenamed(\"name\", \"src_name\").withColumnRenamed(\"municipality\", \"src_municipality\")\n",
        "target_flights_complete.show()"
      ],
      "execution_count": 8,
      "outputs": [
        {
          "output_type": "stream",
          "text": [
            "+---------+--------------------+----------------+--------+------+------+------------+--------+------+-----------+--------------------+--------------------+--------------------+---------+-----------------+----------------+\n",
            "|src_ident|            src_name|src_municipality|callsign|number|icao24|registration|typecode|origin|destination|           firstseen|            lastseen|                 day|dst_ident|         dst_name|dst_municipality|\n",
            "+---------+--------------------+----------------+--------+------+------+------------+--------+------+-----------+--------------------+--------------------+--------------------+---------+-----------------+----------------+\n",
            "|     KFLL|Fort Lauderdale H...| Fort Lauderdale| SWA3429|  null|a98520|      N712SW|    B737|  KFLL|       KDAL|2019-12-31 20:33:...|2020-01-01 00:21:...|2020-01-01 00:00:...|     KDAL|Dallas Love Field|          Dallas|\n",
            "|     KLGA|  La Guardia Airport|        New York| SWA4317|  null|aa963e|      N781WN|    B737|  KLGA|       KDAL|2019-12-31 20:34:...|2020-01-01 00:05:...|2020-01-01 00:00:...|     KDAL|Dallas Love Field|          Dallas|\n",
            "|     KLAS|McCarran Internat...|       Las Vegas|  SWA671|  null|aa649c|      N769SW|    B737|  KLAS|       KDAL|2019-12-31 20:56:...|2020-01-01 00:04:...|2020-01-01 00:00:...|     KDAL|Dallas Love Field|          Dallas|\n",
            "|     KSEA|Seattle Tacoma In...|         Seattle| SKW3356|  null|a154e6|      N185SY|    E75L|  KSEA|       KDAL|2019-12-31 21:16:...|2020-01-01 00:37:...|2020-01-01 00:00:...|     KDAL|Dallas Love Field|          Dallas|\n",
            "|     KDCA|Ronald Reagan Was...|      Washington| SWA6718|  null|ab627c|      N8322X|    B738|  KDCA|       KDAL|2019-12-31 21:19:...|2020-01-01 00:25:...|2020-01-01 00:00:...|     KDAL|Dallas Love Field|          Dallas|\n",
            "|     KSEA|Seattle Tacoma In...|         Seattle| SWA5680|  null|aaa5b8|      N7852A|    B737|  KSEA|       KDAL|2019-12-31 21:53:...|2020-01-01 01:08:...|2020-01-01 00:00:...|     KDAL|Dallas Love Field|          Dallas|\n",
            "|     KBWI|Baltimore/Washing...|       Baltimore|  SWA651|  null|aa8c1b|      N779SW|    B737|  KBWI|       KDAL|2019-12-31 22:27:...|2020-01-01 01:34:...|2020-01-01 00:00:...|     KDAL|Dallas Love Field|          Dallas|\n",
            "|     KPHL|Philadelphia Inte...|    Philadelphia| SWA3360|  null|acc3e2|      N921WN|    B737|  KPHL|       KDAL|2019-12-31 22:29:...|2020-01-01 01:48:...|2020-01-01 00:00:...|     KDAL|Dallas Love Field|          Dallas|\n",
            "|     KSJC|Norman Y. Mineta ...|        San Jose| SWA5036|  null|abe0df|      N8646B|    B738|  KSJC|       KDAL|2019-12-31 22:48:...|2020-01-01 01:50:...|2020-01-01 00:00:...|     KDAL|Dallas Love Field|          Dallas|\n",
            "|     KMCI|Kansas City Inter...|     Kansas City| SWA5122|  null|a30657|      N294WN|    B737|  KMCI|       KDAL|2019-12-31 22:56:...|2020-01-01 00:06:...|2020-01-01 00:00:...|     KDAL|Dallas Love Field|          Dallas|\n",
            "|     KORL|Orlando Executive...|         Orlando| SWA4105|  null|abd8a5|      N8620H|    B738|  KORL|       KDAL|2019-12-31 23:02:...|2020-01-01 01:36:...|2020-01-01 00:00:...|     KDAL|Dallas Love Field|          Dallas|\n",
            "|     KRDU|Raleigh Durham In...|  Raleigh/Durham| SWA2031|  null|abb54f|      N8533S|    B738|  KRDU|       KDAL|2019-12-31 23:06:...|2020-01-01 01:51:...|2020-01-01 00:00:...|     KDAL|Dallas Love Field|          Dallas|\n",
            "|     KDEN|Denver Internatio...|          Denver| SWA3118|  null|acc02b|      N920WN|    B737|  KDEN|       KDAL|2019-12-31 23:17:...|2020-01-01 02:31:...|2020-01-01 00:00:...|     KDAL|Dallas Love Field|          Dallas|\n",
            "|     KSMF|Sacramento Intern...|      Sacramento| SWA1488|  null|abd204|      N8606C|    B738|  KSMF|       KDAL|2019-12-31 23:23:...|2020-01-01 02:19:...|2020-01-01 00:00:...|     KDAL|Dallas Love Field|          Dallas|\n",
            "|     KLAS|McCarran Internat...|       Las Vegas| SWA4245|  null|a220cb|      N236WN|    B737|  KLAS|       KDAL|2019-12-31 23:30:...|2020-01-01 01:39:...|2020-01-01 00:00:...|     KDAL|Dallas Love Field|          Dallas|\n",
            "|     KMDW|Chicago Midway In...|         Chicago| SWA6651|  null|aa7718|      N7734H|    B737|  KMDW|       KDAL|2019-12-31 23:43:...|2020-01-01 03:29:...|2020-01-01 00:00:...|     KDAL|Dallas Love Field|          Dallas|\n",
            "|     88PA|      Mc Coy Airport|         Clinton| SWA3199|  null|ab5b66|      N8305E|    B738|  88PA|       KDAL|2019-12-31 23:53:...|2020-01-01 02:21:...|2020-01-01 00:00:...|     KDAL|Dallas Love Field|          Dallas|\n",
            "|     KMDW|Chicago Midway In...|         Chicago| SWA6233|  null|acb664|      N918WN|    B737|  KMDW|       KDAL|2019-12-31 23:53:...|2020-01-01 01:54:...|2020-01-01 00:00:...|     KDAL|Dallas Love Field|          Dallas|\n",
            "|     KSFO|San Francisco Int...|   San Francisco| SKW3348|  null|a14d78|      N183SY|    E75L|  KSFO|       KDAL|2020-01-01 00:04:...|2020-01-01 03:21:...|2020-01-01 00:00:...|     KDAL|Dallas Love Field|          Dallas|\n",
            "|     KHOU|William P Hobby A...|         Houston| SWA6794|  null|a53f20|      N437WN|    B737|  KHOU|       KDAL|2020-01-01 00:19:...|2020-01-01 01:02:...|2020-01-01 00:00:...|     KDAL|Dallas Love Field|          Dallas|\n",
            "+---------+--------------------+----------------+--------+------+------+------------+--------+------+-----------+--------------------+--------------------+--------------------+---------+-----------------+----------------+\n",
            "only showing top 20 rows\n",
            "\n"
          ],
          "name": "stdout"
        }
      ]
    },
    {
      "cell_type": "code",
      "metadata": {
        "id": "7961GISt45Ay",
        "colab_type": "code",
        "colab": {
          "base_uri": "https://localhost:8080/",
          "height": 459
        },
        "outputId": "15b3cea8-afe1-4995-a097-b4c660de216f"
      },
      "source": [
        "# Grouping all flights by origin city(county), sort by count in descending order.\n",
        "incoming_flight_info = target_flights_complete.groupBy(\"src_municipality\", \"day\").count().orderBy(\"day\", desc(\"count\"))\n",
        "incoming_flight_info.show()"
      ],
      "execution_count": 9,
      "outputs": [
        {
          "output_type": "stream",
          "text": [
            "+----------------+--------------------+-----+\n",
            "|src_municipality|                 day|count|\n",
            "+----------------+--------------------+-----+\n",
            "|         Houston|2020-01-01 00:00:...|   16|\n",
            "|     San Antonio|2020-01-01 00:00:...|    9|\n",
            "|          Austin|2020-01-01 00:00:...|    8|\n",
            "|         Chicago|2020-01-01 00:00:...|    7|\n",
            "|          Denver|2020-01-01 00:00:...|    7|\n",
            "|         Atlanta|2020-01-01 00:00:...|    6|\n",
            "|         Phoenix|2020-01-01 00:00:...|    6|\n",
            "|     Kansas City|2020-01-01 00:00:...|    6|\n",
            "|        St Louis|2020-01-01 00:00:...|    6|\n",
            "|         Seattle|2020-01-01 00:00:...|    5|\n",
            "|       Nashville|2020-01-01 00:00:...|    5|\n",
            "|     Los Angeles|2020-01-01 00:00:...|    5|\n",
            "|        New York|2020-01-01 00:00:...|    5|\n",
            "|      Washington|2020-01-01 00:00:...|    5|\n",
            "| Fort Lauderdale|2020-01-01 00:00:...|    4|\n",
            "|     Albuquerque|2020-01-01 00:00:...|    4|\n",
            "|       Las Vegas|2020-01-01 00:00:...|    3|\n",
            "|           Tulsa|2020-01-01 00:00:...|    3|\n",
            "|        Portland|2020-01-01 00:00:...|    3|\n",
            "|       Baltimore|2020-01-01 00:00:...|    3|\n",
            "+----------------+--------------------+-----+\n",
            "only showing top 20 rows\n",
            "\n"
          ],
          "name": "stdout"
        }
      ]
    },
    {
      "cell_type": "code",
      "metadata": {
        "id": "YutoAANsXfjp",
        "colab_type": "code",
        "colab": {}
      },
      "source": [
        "# filtering function definition  \n",
        "def date_filter(day):\n",
        "  '''\n",
        "  This filter checks if input date is in the two weeks range prior of the target date. \n",
        "  '''\n",
        "  datetime_obj = datetime.datetime.strptime(day.split(\"+\")[0], \"%Y-%m-%d %H:%M:%S\")\n",
        "  two_weeks = datetime.timedelta(days=14)\n",
        "  zero = datetime.timedelta(days=0)\n",
        "  day_difference = target_date - datetime_obj\n",
        "  if day_difference <= two_weeks and day_difference > zero:\n",
        "    return True\n",
        "  return False\n",
        "\n",
        "filter_func = udf(date_filter, BooleanType())"
      ],
      "execution_count": 0,
      "outputs": []
    },
    {
      "cell_type": "code",
      "metadata": {
        "id": "rimT6L5cVWYt",
        "colab_type": "code",
        "colab": {
          "base_uri": "https://localhost:8080/",
          "height": 459
        },
        "outputId": "433b4ddd-c8b7-46f6-828e-48fe9782c41b"
      },
      "source": [
        "# Finding out flights which landed in the target city(county) during the two weeks prior of the target date.\n",
        "# The reason for only including two weeks of flight is the incubation period of COVID-19 is two weeks. \n",
        "pre_two_weeks_flights = incoming_flight_info.filter(filter_func(incoming_flight_info[\"day\"]))\n",
        "pre_two_weeks_flights.show()"
      ],
      "execution_count": 11,
      "outputs": [
        {
          "output_type": "stream",
          "text": [
            "+----------------+--------------------+-----+\n",
            "|src_municipality|                 day|count|\n",
            "+----------------+--------------------+-----+\n",
            "|          Austin|2020-02-25 00:00:...|   13|\n",
            "|         Atlanta|2020-02-25 00:00:...|   12|\n",
            "|         Houston|2020-02-25 00:00:...|   12|\n",
            "|     San Antonio|2020-02-25 00:00:...|   11|\n",
            "|          Denver|2020-02-25 00:00:...|    9|\n",
            "|       Las Vegas|2020-02-25 00:00:...|    9|\n",
            "|     Los Angeles|2020-02-25 00:00:...|    8|\n",
            "|         Chicago|2020-02-25 00:00:...|    8|\n",
            "|     Kansas City|2020-02-25 00:00:...|    7|\n",
            "|        St Louis|2020-02-25 00:00:...|    7|\n",
            "|         Phoenix|2020-02-25 00:00:...|    6|\n",
            "|      Washington|2020-02-25 00:00:...|    6|\n",
            "|        New York|2020-02-25 00:00:...|    5|\n",
            "|     Albuquerque|2020-02-25 00:00:...|    5|\n",
            "|           Tulsa|2020-02-25 00:00:...|    4|\n",
            "|         Seattle|2020-02-25 00:00:...|    4|\n",
            "|       Nashville|2020-02-25 00:00:...|    4|\n",
            "|       Baltimore|2020-02-25 00:00:...|    4|\n",
            "|       San Diego|2020-02-25 00:00:...|    4|\n",
            "| Fort Lauderdale|2020-02-25 00:00:...|    3|\n",
            "+----------------+--------------------+-----+\n",
            "only showing top 20 rows\n",
            "\n"
          ],
          "name": "stdout"
        }
      ]
    },
    {
      "cell_type": "code",
      "metadata": {
        "id": "ET-Ez0BfdvDO",
        "colab_type": "code",
        "colab": {
          "base_uri": "https://localhost:8080/",
          "height": 459
        },
        "outputId": "05faa362-1f9b-4e9a-d24a-32f2dd0ae42d"
      },
      "source": [
        "# Finding out where did most of the flight came from during the two weeks time prior of the target date.\n",
        "pre_two_weeks_flights.groupBy(\"src_municipality\").sum(\"count\").orderBy(desc(\"sum(count)\")).show()"
      ],
      "execution_count": 12,
      "outputs": [
        {
          "output_type": "stream",
          "text": [
            "+----------------+----------+\n",
            "|src_municipality|sum(count)|\n",
            "+----------------+----------+\n",
            "|         Houston|       230|\n",
            "|         Atlanta|       151|\n",
            "|     San Antonio|       144|\n",
            "|          Austin|       140|\n",
            "|       Las Vegas|       120|\n",
            "|          Denver|       117|\n",
            "|     Los Angeles|       109|\n",
            "|         Chicago|       102|\n",
            "|         Phoenix|        96|\n",
            "|     Kansas City|        91|\n",
            "|        St Louis|        90|\n",
            "|       Baltimore|        68|\n",
            "|       Nashville|        66|\n",
            "|     Albuquerque|        65|\n",
            "|      Washington|        65|\n",
            "|        New York|        64|\n",
            "|       San Diego|        57|\n",
            "|         Seattle|        55|\n",
            "|           Tulsa|        52|\n",
            "| Fort Lauderdale|        50|\n",
            "+----------------+----------+\n",
            "only showing top 20 rows\n",
            "\n"
          ],
          "name": "stdout"
        }
      ]
    },
    {
      "cell_type": "markdown",
      "metadata": {
        "id": "LGjQnaL50njj",
        "colab_type": "text"
      },
      "source": [
        "# Findings"
      ]
    },
    {
      "cell_type": "markdown",
      "metadata": {
        "id": "aJ-R96uT2xal",
        "colab_type": "text"
      },
      "source": [
        "## Houston, Texas"
      ]
    },
    {
      "cell_type": "markdown",
      "metadata": {
        "id": "a_mijkSy02Td",
        "colab_type": "text"
      },
      "source": [
        "Houston had lots of flights coming to Dallas, let's take a look at when did the spread start in Houston."
      ]
    },
    {
      "cell_type": "code",
      "metadata": {
        "id": "HfPwfDApfrwI",
        "colab_type": "code",
        "colab": {
          "base_uri": "https://localhost:8080/",
          "height": 34
        },
        "outputId": "2b04187b-31a2-4784-ce6d-c31a22a5fdc3"
      },
      "source": [
        "print(disease.filter((disease[\"county\"] == \"Houston\") & (disease[\"state\"] == \"Texas\")).orderBy(\"date\").first()[\"date\"])"
      ],
      "execution_count": 13,
      "outputs": [
        {
          "output_type": "stream",
          "text": [
            "2020-04-19 00:00:00\n"
          ],
          "name": "stdout"
        }
      ]
    },
    {
      "cell_type": "markdown",
      "metadata": {
        "id": "ulNRyFi21NhB",
        "colab_type": "text"
      },
      "source": [
        "Looks like COVID-19 started spreading in Houston on April 19th, which is later than target date (March 10th), so Houston might not be the city that \"infected\" Dallas."
      ]
    },
    {
      "cell_type": "markdown",
      "metadata": {
        "id": "JMNrI5kO22CD",
        "colab_type": "text"
      },
      "source": [
        "## Atlanta, Georgia"
      ]
    },
    {
      "cell_type": "markdown",
      "metadata": {
        "id": "LushX8P81rdN",
        "colab_type": "text"
      },
      "source": [
        "Atlanta had fair amount of flights coming to Dallas as well, let's take a look at when did the spread start in Atlanta. One problem here is that, Atlanta is the name of the city, however, in ```disease``` dataframe, county name was used instead of city name. So I had manually look up the county name of Atlanta, the county is called Fulton."
      ]
    },
    {
      "cell_type": "code",
      "metadata": {
        "id": "FzT3vLHw2lkB",
        "colab_type": "code",
        "colab": {
          "base_uri": "https://localhost:8080/",
          "height": 34
        },
        "outputId": "79569174-ec07-460e-b2be-49800ac82eb7"
      },
      "source": [
        "print(disease.filter((disease[\"county\"] == \"Fulton\") & (disease[\"state\"] == \"Georgia\")).orderBy(\"date\").first()[\"date\"])"
      ],
      "execution_count": 14,
      "outputs": [
        {
          "output_type": "stream",
          "text": [
            "2020-03-02 00:00:00\n"
          ],
          "name": "stdout"
        }
      ]
    },
    {
      "cell_type": "markdown",
      "metadata": {
        "id": "KZnEdbgx3FYd",
        "colab_type": "text"
      },
      "source": [
        "Hmm, looks like COVID-19 started spreading in Atlanta before it did in Dallas, therefore, it is possible that Atlanat \"infected\" Dallas. Additionally, given that Atlanat had the second highest amount of flights coming to Dallas, the probability is high."
      ]
    },
    {
      "cell_type": "markdown",
      "metadata": {
        "id": "kRBJccVY3xnx",
        "colab_type": "text"
      },
      "source": [
        "## San Antonio, Texas"
      ]
    },
    {
      "cell_type": "markdown",
      "metadata": {
        "id": "7SifcIXx4I_k",
        "colab_type": "text"
      },
      "source": [
        "San Antonio had the third highest amount of flight coming to Dallas, let's take a look at when the spread started in San Antonio. The same problem happened again here, the county that San Antonio is in is called Bexar."
      ]
    },
    {
      "cell_type": "code",
      "metadata": {
        "id": "QtIdGlJZ37cT",
        "colab_type": "code",
        "colab": {
          "base_uri": "https://localhost:8080/",
          "height": 34
        },
        "outputId": "da55349c-1e53-4fca-f747-6def99b1674e"
      },
      "source": [
        "print(disease.filter((disease[\"county\"] == \"Bexar\") & (disease[\"state\"] == \"Texas\")).orderBy(\"date\").first()[\"date\"])"
      ],
      "execution_count": 15,
      "outputs": [
        {
          "output_type": "stream",
          "text": [
            "2020-02-12 00:00:00\n"
          ],
          "name": "stdout"
        }
      ]
    },
    {
      "cell_type": "markdown",
      "metadata": {
        "id": "Swhr-QJV469u",
        "colab_type": "text"
      },
      "source": [
        "Looks like COVID-19 start spreading in San Antonio way before it started in Dallas, therefore, San Antonio could have also \"infected\" Dallas."
      ]
    },
    {
      "cell_type": "markdown",
      "metadata": {
        "id": "E9O9KQgr5QyH",
        "colab_type": "text"
      },
      "source": [
        "# Further development\n",
        "\n",
        "1. Achieve automatically conversion between city name and county name. (We probably should do this.)\n",
        "2. Maybe we could actually calculate the probability of city *A* \"infected\" city *B*. We can calculate the value using the spread start date of city *A* and the number of flights from city *A*. For example, COVID-19 started spreading in Altanat on March 2nd and had 151 flights came to Dallas, on the other hand, the virus started spreading in San Antonio in February 12th and had 144 flights came to Dallas. Given these two cities, I would say that the probability of San Antonio \"infected\" Dallas is higher than it is for Altanta. Reason being that, even though there are slightly less flights came from San Antonio, the spread started in San Antonio really early, so by February 25th (two weeks before March 10th), there should be lots people infected in San Antonio. Therefore, chance of one of the infected individuals flew from San Antonio to Dallas during the two weeks prior of the target date is higher. (I think it's doable, but might take some time to implement, so we can do it if we have time left.)\n",
        "3. Maybe some graphs? (Not really important as the result can be described in text, but might be nice to have for the presentation.)\n"
      ]
    }
  ]
}