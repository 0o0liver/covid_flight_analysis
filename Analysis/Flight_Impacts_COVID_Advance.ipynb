{
  "nbformat": 4,
  "nbformat_minor": 0,
  "metadata": {
    "colab": {
      "name": "Flight_Impacts_COVID_Advance.ipynb",
      "provenance": [],
      "collapsed_sections": [],
      "include_colab_link": true
    },
    "kernelspec": {
      "name": "python3",
      "display_name": "Python 3"
    }
  },
  "cells": [
    {
      "cell_type": "markdown",
      "metadata": {
        "id": "view-in-github",
        "colab_type": "text"
      },
      "source": [
        "<a href=\"https://colab.research.google.com/github/shantanutrip/covid_flight_analysis/blob/master/Analysis/Flight_Impacts_COVID_Advance.ipynb\" target=\"_parent\"><img src=\"https://colab.research.google.com/assets/colab-badge.svg\" alt=\"Open In Colab\"/></a>"
      ]
    },
    {
      "cell_type": "markdown",
      "metadata": {
        "id": "xkgAy3sDYetw",
        "colab_type": "text"
      },
      "source": [
        "# Impact of Flight on Covid\n",
        "This analysis is mainly based on the previous analysis from Binghan, which you can find from here: https://github.com/shantanutrip/covid_flight_analysis/blob/master/Analysis/Flight_Impacts_COVID_Basic.ipynb\n",
        "\n",
        "Our goal is to see if the spread of disease in one city resulted from the flights from other cities which have cases already."
      ]
    },
    {
      "cell_type": "markdown",
      "metadata": {
        "id": "uMjF6bz4ZYPW",
        "colab_type": "text"
      },
      "source": [
        "## Install required packages"
      ]
    },
    {
      "cell_type": "code",
      "metadata": {
        "id": "iPicK0Fl_VMa",
        "colab_type": "code",
        "outputId": "66330782-d812-4929-9735-2f1c956289e8",
        "colab": {
          "base_uri": "https://localhost:8080/",
          "height": 258
        }
      },
      "source": [
        "!apt-get install openjdk-8-jdk-headless -qq > /dev/null\n",
        "!wget -q https://downloads.apache.org/spark/spark-2.4.5/spark-2.4.5-bin-hadoop2.7.tgz\n",
        "!tar xf spark-2.4.5-bin-hadoop2.7.tgz\n",
        "!pip install -q findspark\n",
        "!pip install pyspark"
      ],
      "execution_count": 0,
      "outputs": [
        {
          "output_type": "stream",
          "text": [
            "Collecting pyspark\n",
            "\u001b[?25l  Downloading https://files.pythonhosted.org/packages/9a/5a/271c416c1c2185b6cb0151b29a91fff6fcaed80173c8584ff6d20e46b465/pyspark-2.4.5.tar.gz (217.8MB)\n",
            "\u001b[K     |████████████████████████████████| 217.8MB 63kB/s \n",
            "\u001b[?25hCollecting py4j==0.10.7\n",
            "\u001b[?25l  Downloading https://files.pythonhosted.org/packages/e3/53/c737818eb9a7dc32a7cd4f1396e787bd94200c3997c72c1dbe028587bd76/py4j-0.10.7-py2.py3-none-any.whl (197kB)\n",
            "\u001b[K     |████████████████████████████████| 204kB 39.7MB/s \n",
            "\u001b[?25hBuilding wheels for collected packages: pyspark\n",
            "  Building wheel for pyspark (setup.py) ... \u001b[?25l\u001b[?25hdone\n",
            "  Created wheel for pyspark: filename=pyspark-2.4.5-py2.py3-none-any.whl size=218257927 sha256=50f403f0cfe5964837cb2c1dc36f178a883f29272e74aac48e41f3560cb3bee7\n",
            "  Stored in directory: /root/.cache/pip/wheels/bf/db/04/61d66a5939364e756eb1c1be4ec5bdce6e04047fc7929a3c3c\n",
            "Successfully built pyspark\n",
            "Installing collected packages: py4j, pyspark\n",
            "Successfully installed py4j-0.10.7 pyspark-2.4.5\n"
          ],
          "name": "stdout"
        }
      ]
    },
    {
      "cell_type": "markdown",
      "metadata": {
        "id": "7-Z5-vu3Zh2L",
        "colab_type": "text"
      },
      "source": [
        "## Set up environment"
      ]
    },
    {
      "cell_type": "code",
      "metadata": {
        "id": "UddBZRFEWT3m",
        "colab_type": "code",
        "colab": {}
      },
      "source": [
        "import os\n",
        "os.environ[\"JAVA_HOME\"] = \"/usr/lib/jvm/java-8-openjdk-amd64\"\n",
        "os.environ[\"SPARK_HOME\"] = \"/content/spark-2.4.5-bin-hadoop2.7\""
      ],
      "execution_count": 0,
      "outputs": []
    },
    {
      "cell_type": "markdown",
      "metadata": {
        "id": "Kr1fjCJnZl7s",
        "colab_type": "text"
      },
      "source": [
        "## Download data from webpages"
      ]
    },
    {
      "cell_type": "code",
      "metadata": {
        "id": "3zyxvYRTWvAy",
        "colab_type": "code",
        "outputId": "e8b153ae-660d-4788-a538-d21a8db7d45b",
        "colab": {
          "base_uri": "https://localhost:8080/",
          "height": 578
        }
      },
      "source": [
        "# This dataset is disease condition in terms of different counties and states\n",
        "!wget https://raw.githubusercontent.com/nytimes/covid-19-data/master/us-counties.csv\n",
        "# This dataset is about the airport info around the world\n",
        "!wget https://ourairports.com/data/airports.csv\n",
        "# This dataset is from our project repo, which contains the disease/flight data for the cities we concern about\n",
        "!wget https://raw.githubusercontent.com/shantanutrip/covid_flight_analysis/master/Resultant_Data/covid_flight_count_data.csv"
      ],
      "execution_count": 1,
      "outputs": [
        {
          "output_type": "stream",
          "text": [
            "--2020-05-10 02:06:59--  https://raw.githubusercontent.com/nytimes/covid-19-data/master/us-counties.csv\n",
            "Resolving raw.githubusercontent.com (raw.githubusercontent.com)... 151.101.0.133, 151.101.64.133, 151.101.128.133, ...\n",
            "Connecting to raw.githubusercontent.com (raw.githubusercontent.com)|151.101.0.133|:443... connected.\n",
            "HTTP request sent, awaiting response... 200 OK\n",
            "Length: 4974471 (4.7M) [text/plain]\n",
            "Saving to: ‘us-counties.csv’\n",
            "\n",
            "\rus-counties.csv       0%[                    ]       0  --.-KB/s               \rus-counties.csv     100%[===================>]   4.74M  25.2MB/s    in 0.2s    \n",
            "\n",
            "2020-05-10 02:07:00 (25.2 MB/s) - ‘us-counties.csv’ saved [4974471/4974471]\n",
            "\n",
            "--2020-05-10 02:07:01--  https://ourairports.com/data/airports.csv\n",
            "Resolving ourairports.com (ourairports.com)... 206.71.179.167\n",
            "Connecting to ourairports.com (ourairports.com)|206.71.179.167|:443... connected.\n",
            "HTTP request sent, awaiting response... 200 OK\n",
            "Length: 8477770 (8.1M) [text/csv]\n",
            "Saving to: ‘airports.csv’\n",
            "\n",
            "airports.csv        100%[===================>]   8.08M  15.0MB/s    in 0.5s    \n",
            "\n",
            "2020-05-10 02:07:01 (15.0 MB/s) - ‘airports.csv’ saved [8477770/8477770]\n",
            "\n",
            "--2020-05-10 02:07:02--  https://raw.githubusercontent.com/shantanutrip/covid_flight_analysis/master/Resultant_Data/covid_flight_count_data.csv\n",
            "Resolving raw.githubusercontent.com (raw.githubusercontent.com)... 151.101.0.133, 151.101.64.133, 151.101.128.133, ...\n",
            "Connecting to raw.githubusercontent.com (raw.githubusercontent.com)|151.101.0.133|:443... connected.\n",
            "HTTP request sent, awaiting response... 200 OK\n",
            "Length: 51132 (50K) [text/plain]\n",
            "Saving to: ‘covid_flight_count_data.csv’\n",
            "\n",
            "covid_flight_count_ 100%[===================>]  49.93K  --.-KB/s    in 0.02s   \n",
            "\n",
            "2020-05-10 02:07:02 (2.35 MB/s) - ‘covid_flight_count_data.csv’ saved [51132/51132]\n",
            "\n"
          ],
          "name": "stdout"
        }
      ]
    },
    {
      "cell_type": "markdown",
      "metadata": {
        "id": "n2_FTWUEZ1h6",
        "colab_type": "text"
      },
      "source": [
        "# Analysis Starts"
      ]
    },
    {
      "cell_type": "code",
      "metadata": {
        "id": "kdIJd880nGW3",
        "colab_type": "code",
        "colab": {}
      },
      "source": [
        "# Import useful packages or functions\n",
        "from pyspark.sql.types import *\n",
        "from pyspark.sql.functions import *\n",
        "from pyspark.sql.types import *\n",
        "import datetime\n",
        "from geopy.geocoders import Nominatim # Use this to transform lat/long to county/state\n",
        "import matplotlib.pyplot as plt\n",
        "import numpy as np"
      ],
      "execution_count": 0,
      "outputs": []
    },
    {
      "cell_type": "code",
      "metadata": {
        "id": "ZwsbTiZvXn9n",
        "colab_type": "code",
        "colab": {}
      },
      "source": [
        "import findspark\n",
        "findspark.init(\"spark-2.4.5-bin-hadoop2.7\")\n",
        "from pyspark.sql import SparkSession\n",
        "spark = SparkSession.builder.master(\"local[*]\").getOrCreate()\n",
        "\n",
        "# Load four datasets, the former three is small and the last one is large\n",
        "city_concern = spark.read.format(\"csv\").options(header=\"true\", inferSchema=\"true\").load(\"/content/covid_flight_count_data.csv\")\n",
        "airports = spark.read.format(\"csv\").options(header=\"true\").load(\"/content/airports.csv\")\n",
        "disease = spark.read.format(\"csv\").options(header=\"true\", inferSchema=\"true\").load(\"/content/us-counties.csv\")\n",
        "# Change merged_flight.csv path accordingly\n",
        "all_flights = spark.read.format(\"csv\").options(header=\"true\", inferSchema=\"true\").load(\"/content/drive/My Drive/Big Data/Final Project/merged_flight.csv\")"
      ],
      "execution_count": 0,
      "outputs": []
    },
    {
      "cell_type": "code",
      "metadata": {
        "id": "zXRwRgKIa37N",
        "colab_type": "code",
        "outputId": "18dcce0b-630e-4ed6-ce02-f6006be1bae0",
        "colab": {
          "base_uri": "https://localhost:8080/",
          "height": 54
        }
      },
      "source": [
        "# output the cities we care about, including 23 large cities around the US\n",
        "city_concern.createOrReplaceTempView('city_concern')\n",
        "city_with_first_case = spark.sql(\"select distinct city from city_concern order by city\")\n",
        "city_list = city_with_first_case.collect()\n",
        "city_list = [row['city'] for row in city_list]\n",
        "\n",
        "print(city_list)"
      ],
      "execution_count": 0,
      "outputs": [
        {
          "output_type": "stream",
          "text": [
            "['BOSTON', 'CHARLOTTE', 'CHICAGO', 'DALLAS', 'DENVER', 'DETROIT', 'FRANKLIN', 'HOUSTON', 'INDIANAPOLIS', 'LOS ANGELES', 'MIAMI', 'MILWAUKEE', 'NASHVILLE', 'NEW YORK CITY', 'PHILADELPHIA', 'PHOENIX', 'SALT LAKE CITY', 'SAN ANTONIO', 'SAN DIEGO', 'SAN FRANCISCO', 'SAN JOSE', 'SEATTLE', 'WASHINGTON']\n"
          ],
          "name": "stdout"
        }
      ]
    },
    {
      "cell_type": "code",
      "metadata": {
        "id": "jhNT-ccSu_qH",
        "colab_type": "code",
        "outputId": "9dcbfa35-d66f-41d2-af18-4e929126a0be",
        "colab": {
          "base_uri": "https://localhost:8080/",
          "height": 34
        }
      },
      "source": [
        "# Choose the city randomly for the test run\n",
        "test_city = city_list[0]\n",
        "print(test_city)"
      ],
      "execution_count": 0,
      "outputs": [
        {
          "output_type": "stream",
          "text": [
            "BOSTON\n"
          ],
          "name": "stdout"
        }
      ]
    },
    {
      "cell_type": "code",
      "metadata": {
        "id": "T87TvJH83veK",
        "colab_type": "code",
        "outputId": "88520217-592c-4671-b1b6-c0c5c92981e7",
        "colab": {
          "base_uri": "https://localhost:8080/",
          "height": 34
        }
      },
      "source": [
        "# This function return the date of the first case in the cities we care about\n",
        "def get_startdate_main(city_name):\n",
        "  temp_date = city_concern.filter(city_concern['city']==city_name).orderBy('day').first()['day']\n",
        "  return temp_date\n",
        "\n",
        "# Test\n",
        "# target_date is the global var\n",
        "target_date = get_startdate_main(test_city)\n",
        "print(target_date)"
      ],
      "execution_count": 0,
      "outputs": [
        {
          "output_type": "stream",
          "text": [
            "2020-02-01 00:00:00\n"
          ],
          "name": "stdout"
        }
      ]
    },
    {
      "cell_type": "code",
      "metadata": {
        "id": "m81nwuRv6X9M",
        "colab_type": "code",
        "outputId": "a7d24da4-f19c-457d-eacb-259b88cec029",
        "colab": {
          "base_uri": "https://localhost:8080/",
          "height": 479
        }
      },
      "source": [
        "# This function output all flights to the city_name as dest\n",
        "def get_all_flight_to_city(city_name):\n",
        "  target_airports = airports.filter((airports[\"municipality\"] == city_name) & ((airports[\"type\"] == \"large_airport\") | (airports[\"type\"] == \"medium_airport\"))).select(\"ident\", \"name\", \"municipality\")\n",
        "  #target_airports.show()\n",
        "  target_flights = all_flights.filter(all_flights[\"origin\"] != \"null\").join(target_airports, target_airports[\"ident\"] == all_flights[\"destination\"]).withColumnRenamed(\"ident\", \"dst_ident\").withColumnRenamed(\"name\", \"dst_name\").withColumnRenamed(\"municipality\", \"dst_municipality\").drop(\"callsign\", \"number\", \"icao24\", \"registration\", \"typecode\", \"firstseen\", \"lastseen\")\n",
        "  target_flights = airports.select(\"ident\", \"name\", \"municipality\", \"latitude_deg\", \"longitude_deg\").join(target_flights, target_flights[\"origin\"] == airports[\"ident\"]).withColumnRenamed(\"ident\", \"src_ident\").withColumnRenamed(\"name\", \"src_name\").withColumnRenamed(\"municipality\", \"src_municipality\")\n",
        "  #target_flights.show()\n",
        "  return target_flights\n",
        "\n",
        "# Test\n",
        "all_flight_data = get_all_flight_to_city(test_city[0]+test_city[1:].lower())\n",
        "all_flight_data.show()"
      ],
      "execution_count": 0,
      "outputs": [
        {
          "output_type": "stream",
          "text": [
            "+---------+--------------------+-----------------+------------------+-------------------+------+-----------+--------------------+---------+--------------------+----------------+\n",
            "|src_ident|            src_name| src_municipality|      latitude_deg|      longitude_deg|origin|destination|                 day|dst_ident|            dst_name|dst_municipality|\n",
            "+---------+--------------------+-----------------+------------------+-------------------+------+-----------+--------------------+---------+--------------------+----------------+\n",
            "|     KLAX|Los Angeles Inter...|      Los Angeles|         33.942501|        -118.407997|  KLAX|       KBOS|2020-01-01 00:00:...|     KBOS|General Edward La...|          Boston|\n",
            "|     VHHH|Hong Kong Interna...|        Hong Kong|         22.308901|         113.915001|  VHHH|       KBOS|2020-01-01 00:00:...|     KBOS|General Edward La...|          Boston|\n",
            "|     KBOS|General Edward La...|           Boston|       42.36429977|       -71.00520325|  KBOS|       KBOS|2020-01-01 00:00:...|     KBOS|General Edward La...|          Boston|\n",
            "|     LSZH|      Zürich Airport|           Zurich|         47.464699|            8.54917|  LSZH|       KBOS|2020-01-01 00:00:...|     KBOS|General Edward La...|          Boston|\n",
            "|     EHAM|Amsterdam Airport...|        Amsterdam|         52.308601|            4.76389|  EHAM|       KBOS|2020-01-01 00:00:...|     KBOS|General Edward La...|          Boston|\n",
            "|     KSDL|  Scottsdale Airport|       Scottsdale|   33.622898101807|   -111.91100311279|  KSDL|       KBOS|2020-01-01 00:00:...|     KBOS|General Edward La...|          Boston|\n",
            "|     KLAX|Los Angeles Inter...|      Los Angeles|         33.942501|        -118.407997|  KLAX|       KBOS|2020-01-01 00:00:...|     KBOS|General Edward La...|          Boston|\n",
            "|     EGLL|London Heathrow A...|           London|           51.4706|          -0.461941|  EGLL|       KBOS|2020-01-01 00:00:...|     KBOS|General Edward La...|          Boston|\n",
            "|     KLAX|Los Angeles Inter...|      Los Angeles|         33.942501|        -118.407997|  KLAX|       KBOS|2020-01-01 00:00:...|     KBOS|General Edward La...|          Boston|\n",
            "|     KSEA|Seattle Tacoma In...|          Seattle|         47.449001|        -122.308998|  KSEA|       KBOS|2020-01-01 00:00:...|     KBOS|General Edward La...|          Boston|\n",
            "|     KSFO|San Francisco Int...|    San Francisco| 37.61899948120117|           -122.375|  KSFO|       KBOS|2020-01-01 00:00:...|     KBOS|General Edward La...|          Boston|\n",
            "|     EGLL|London Heathrow A...|           London|           51.4706|          -0.461941|  EGLL|       KBOS|2020-01-01 00:00:...|     KBOS|General Edward La...|          Boston|\n",
            "|     MDPC|Punta Cana Intern...|       Punta Cana|18.567399978599997| -68.36340332030001|  MDPC|       KBOS|2020-01-01 00:00:...|     KBOS|General Edward La...|          Boston|\n",
            "|     KAUS|Austin Bergstrom ...|           Austin|30.194499969482422|  -97.6698989868164|  KAUS|       KBOS|2020-01-01 00:00:...|     KBOS|General Edward La...|          Boston|\n",
            "|     KPHX|Phoenix Sky Harbo...|          Phoenix| 33.43429946899414|-112.01200103759766|  KPHX|       KBOS|2020-01-01 00:00:...|     KBOS|General Edward La...|          Boston|\n",
            "|     KLAX|Los Angeles Inter...|      Los Angeles|         33.942501|        -118.407997|  KLAX|       KBOS|2020-01-01 00:00:...|     KBOS|General Edward La...|          Boston|\n",
            "|     KMIA|Miami Internation...|            Miami| 25.79319953918457| -80.29060363769531|  KMIA|       KBOS|2020-01-01 00:00:...|     KBOS|General Edward La...|          Boston|\n",
            "|     KDFW|Dallas Fort Worth...|Dallas-Fort Worth|         32.896801|         -97.038002|  KDFW|       KBOS|2020-01-01 00:00:...|     KBOS|General Edward La...|          Boston|\n",
            "|     KRSW|Southwest Florida...|       Fort Myers| 26.53619956970215| -81.75520324707031|  KRSW|       KBOS|2020-01-01 00:00:...|     KBOS|General Edward La...|          Boston|\n",
            "|     KSFO|San Francisco Int...|    San Francisco| 37.61899948120117|           -122.375|  KSFO|       KBOS|2020-01-01 00:00:...|     KBOS|General Edward La...|          Boston|\n",
            "+---------+--------------------+-----------------+------------------+-------------------+------+-----------+--------------------+---------+--------------------+----------------+\n",
            "only showing top 20 rows\n",
            "\n"
          ],
          "name": "stdout"
        }
      ]
    },
    {
      "cell_type": "code",
      "metadata": {
        "id": "9XWSV2XG-TBL",
        "colab_type": "code",
        "colab": {}
      },
      "source": [
        "# This function checks whether the consider_date is in the range [target_date-start, target_date-end]\n",
        "def date_range_filter(consider_date):\n",
        "  consider_datetime_obj = datetime.datetime.strptime(consider_date.split(\"+\")[0], \"%Y-%m-%d %H:%M:%S\")\n",
        "  range_max = datetime.timedelta(days=start)\n",
        "  range_min = datetime.timedelta(days=end)\n",
        "  day_difference = target_date - consider_datetime_obj\n",
        "\n",
        "  if day_difference <= range_max and day_difference > range_min:\n",
        "    return True\n",
        "  else:\n",
        "    return False\n",
        "  \n",
        "date_range_filter = udf(date_range_filter, BooleanType())"
      ],
      "execution_count": 0,
      "outputs": []
    },
    {
      "cell_type": "code",
      "metadata": {
        "id": "U6KSNL1awphH",
        "colab_type": "code",
        "outputId": "a121744f-770e-4426-c662-d0ea915d57c5",
        "colab": {
          "base_uri": "https://localhost:8080/",
          "height": 479
        }
      },
      "source": [
        "# start and end are global vars\n",
        "start, end = 14, 0\n",
        "filtered_flight_data = all_flight_data.filter(date_range_filter(all_flight_data[\"day\"]))\n",
        "# Show the flight data 10 days before the 2020-02-01\n",
        "filtered_flight_data.show()"
      ],
      "execution_count": 0,
      "outputs": [
        {
          "output_type": "stream",
          "text": [
            "+---------+--------------------+-----------------+------------+-------------+------+-----------+--------------------+---------+--------------------+----------------+\n",
            "|src_ident|            src_name| src_municipality|latitude_deg|longitude_deg|origin|destination|                 day|dst_ident|            dst_name|dst_municipality|\n",
            "+---------+--------------------+-----------------+------------+-------------+------+-----------+--------------------+---------+--------------------+----------------+\n",
            "|     KLAX|Los Angeles Inter...|      Los Angeles|   33.942501|  -118.407997|  KLAX|       KBOS|2020-01-18 00:00:...|     KBOS|General Edward La...|          Boston|\n",
            "|     VHHH|Hong Kong Interna...|        Hong Kong|   22.308901|   113.915001|  VHHH|       KBOS|2020-01-18 00:00:...|     KBOS|General Edward La...|          Boston|\n",
            "|     KBOS|General Edward La...|           Boston| 42.36429977| -71.00520325|  KBOS|       KBOS|2020-01-18 00:00:...|     KBOS|General Edward La...|          Boston|\n",
            "|     KBOS|General Edward La...|           Boston| 42.36429977| -71.00520325|  KBOS|       KBOS|2020-01-18 00:00:...|     KBOS|General Edward La...|          Boston|\n",
            "|     KBOS|General Edward La...|           Boston| 42.36429977| -71.00520325|  KBOS|       KBOS|2020-01-18 00:00:...|     KBOS|General Edward La...|          Boston|\n",
            "|     KBOS|General Edward La...|           Boston| 42.36429977| -71.00520325|  KBOS|       KBOS|2020-01-18 00:00:...|     KBOS|General Edward La...|          Boston|\n",
            "|     EGLL|London Heathrow A...|           London|     51.4706|    -0.461941|  EGLL|       KBOS|2020-01-18 00:00:...|     KBOS|General Edward La...|          Boston|\n",
            "|     KDFW|Dallas Fort Worth...|Dallas-Fort Worth|   32.896801|   -97.038002|  KDFW|       KBOS|2020-01-18 00:00:...|     KBOS|General Edward La...|          Boston|\n",
            "|     KJFK|John F Kennedy In...|         New York|   40.639801|     -73.7789|  KJFK|       KBOS|2020-01-18 00:00:...|     KBOS|General Edward La...|          Boston|\n",
            "|     KBOS|General Edward La...|           Boston| 42.36429977| -71.00520325|  KBOS|       KBOS|2020-01-18 00:00:...|     KBOS|General Edward La...|          Boston|\n",
            "|     KBOS|General Edward La...|           Boston| 42.36429977| -71.00520325|  KBOS|       KBOS|2020-01-18 00:00:...|     KBOS|General Edward La...|          Boston|\n",
            "|     KPVD|Theodore Francis ...|       Providence|   41.732601|   -71.420403|  KPVD|       KBOS|2020-01-18 00:00:...|     KBOS|General Edward La...|          Boston|\n",
            "|     KORD|Chicago O'Hare In...|          Chicago|     41.9786|     -87.9048|  KORD|       KBOS|2020-01-18 00:00:...|     KBOS|General Edward La...|          Boston|\n",
            "|     KLGA|  La Guardia Airport|         New York| 40.77719879| -73.87259674|  KLGA|       KBOS|2020-01-18 00:00:...|     KBOS|General Edward La...|          Boston|\n",
            "|     KBOS|General Edward La...|           Boston| 42.36429977| -71.00520325|  KBOS|       KBOS|2020-01-18 00:00:...|     KBOS|General Edward La...|          Boston|\n",
            "|     KFLL|Fort Lauderdale H...|  Fort Lauderdale|   26.072599|   -80.152702|  KFLL|       KBOS|2020-01-18 00:00:...|     KBOS|General Edward La...|          Boston|\n",
            "|     KLGA|  La Guardia Airport|         New York| 40.77719879| -73.87259674|  KLGA|       KBOS|2020-01-18 00:00:...|     KBOS|General Edward La...|          Boston|\n",
            "|     KSEA|Seattle Tacoma In...|          Seattle|   47.449001|  -122.308998|  KSEA|       KBOS|2020-01-18 00:00:...|     KBOS|General Edward La...|          Boston|\n",
            "|     KBOS|General Edward La...|           Boston| 42.36429977| -71.00520325|  KBOS|       KBOS|2020-01-18 00:00:...|     KBOS|General Edward La...|          Boston|\n",
            "|     KDFW|Dallas Fort Worth...|Dallas-Fort Worth|   32.896801|   -97.038002|  KDFW|       KBOS|2020-01-18 00:00:...|     KBOS|General Edward La...|          Boston|\n",
            "+---------+--------------------+-----------------+------------+-------------+------+-----------+--------------------+---------+--------------------+----------------+\n",
            "only showing top 20 rows\n",
            "\n"
          ],
          "name": "stdout"
        }
      ]
    },
    {
      "cell_type": "code",
      "metadata": {
        "id": "mAP-2BqtxRBs",
        "colab_type": "code",
        "outputId": "2385ae22-043e-4513-b5e1-7cd5cfd0c726",
        "colab": {
          "base_uri": "https://localhost:8080/",
          "height": 459
        }
      },
      "source": [
        "# This part groups the flight data by lat and long.\n",
        "incoming_flight_info = filtered_flight_data.groupBy(\"latitude_deg\", \"longitude_deg\").count().orderBy(desc(\"count\"))\n",
        "incoming_flight_info.show()"
      ],
      "execution_count": 0,
      "outputs": [
        {
          "output_type": "stream",
          "text": [
            "+------------------+------------------+-----+\n",
            "|      latitude_deg|     longitude_deg|count|\n",
            "+------------------+------------------+-----+\n",
            "|           38.8521|        -77.037697|  388|\n",
            "|       40.77719879|      -73.87259674|  379|\n",
            "| 39.87189865112305|-75.24109649658203|  281|\n",
            "|           41.9786|          -87.9048|  265|\n",
            "|40.692501068115234|  -74.168701171875|  254|\n",
            "|         40.639801|          -73.7789|  216|\n",
            "|           33.6367|        -84.428101|  198|\n",
            "|         33.942501|       -118.407997|  151|\n",
            "|           39.1754|        -76.668297|  150|\n",
            "| 37.61899948120117|          -122.375|  145|\n",
            "|  35.2140007019043|-80.94309997558594|  141|\n",
            "|35.877601623535156| -78.7874984741211|  133|\n",
            "| 25.79319953918457|-80.29060363769531|  122|\n",
            "|     43.6772003174|-79.63059997559999|  114|\n",
            "|         26.072599|        -80.152702|  111|\n",
            "|            44.882|        -93.221802|  107|\n",
            "| 26.53619956970215|-81.75520324707031|   95|\n",
            "|  36.1245002746582| -86.6781997680664|   93|\n",
            "|27.975500106811523|     -82.533203125|   91|\n",
            "|         32.896801|        -97.038002|   85|\n",
            "+------------------+------------------+-----+\n",
            "only showing top 20 rows\n",
            "\n"
          ],
          "name": "stdout"
        }
      ]
    },
    {
      "cell_type": "code",
      "metadata": {
        "id": "PPG_8wDfIpJR",
        "colab_type": "code",
        "colab": {}
      },
      "source": [
        "# Function definition for adding county column\n",
        "geolocator = Nominatim(user_agent = \"flights_analysis\", timeout=100)\n",
        "\n",
        "def add_county(lat, lng):\n",
        "  '''\n",
        "  This function adds county column to caller dataframe\n",
        "  '''\n",
        "  geo_str = str(lat) + \", \" + str(lng)\n",
        "  location = geolocator.reverse(geo_str).raw\n",
        "  try:\n",
        "    county_full = location[\"address\"][\"county\"]\n",
        "    county = \" \".join(county_full.split(\" \")[:-1])\n",
        "    return county\n",
        "  except KeyError:\n",
        "    return \"null\"\n",
        "\n",
        "# Function definition for adding state column\n",
        "def add_state(lat, lng):\n",
        "  '''\n",
        "  This function adds state column to caller dataframe\n",
        "  '''\n",
        "  geo_str = str(lat) + \", \" + str(lng)\n",
        "  location = geolocator.reverse(geo_str).raw\n",
        "  try:\n",
        "    state = location[\"address\"][\"state\"]\n",
        "    return state\n",
        "  except KeyError:\n",
        "    return \"null\"\n",
        "\n",
        "add_county_func = udf(add_county, StringType())\n",
        "add_state_func = udf(add_state, StringType())"
      ],
      "execution_count": 0,
      "outputs": []
    },
    {
      "cell_type": "code",
      "metadata": {
        "id": "018C2iBUxCY1",
        "colab_type": "code",
        "outputId": "0ba2c8ba-6b98-494e-e790-edfd4e68cb18",
        "colab": {
          "base_uri": "https://localhost:8080/",
          "height": 459
        }
      },
      "source": [
        "# This part adds county/state info onto the former dataframe according to the long/lat info\n",
        "incoming_flight_info = incoming_flight_info.withColumn(\"county\", add_county_func(incoming_flight_info[\"latitude_deg\"], incoming_flight_info[\"longitude_deg\"])).withColumn(\"state\", add_state_func(incoming_flight_info[\"latitude_deg\"], incoming_flight_info[\"longitude_deg\"]))\n",
        "incoming_flight_info.show()"
      ],
      "execution_count": 0,
      "outputs": [
        {
          "output_type": "stream",
          "text": [
            "+------------------+------------------+-----+------------+--------------+\n",
            "|      latitude_deg|     longitude_deg|count|      county|         state|\n",
            "+------------------+------------------+-----+------------+--------------+\n",
            "|           38.8521|        -77.037697|  388|   Arlington|      Virginia|\n",
            "|       40.77719879|      -73.87259674|  379|      Queens|      New York|\n",
            "| 39.87189865112305|-75.24109649658203|  281|Philadelphia|  Pennsylvania|\n",
            "|           41.9786|          -87.9048|  265|      DuPage|      Illinois|\n",
            "|40.692501068115234|  -74.168701171875|  254|       Essex|    New Jersey|\n",
            "|         40.639801|          -73.7789|  216|      Queens|      New York|\n",
            "|           33.6367|        -84.428101|  198|     Clayton|       Georgia|\n",
            "|         33.942501|       -118.407997|  151| Los Angeles|    California|\n",
            "|           39.1754|        -76.668297|  150|Anne Arundel|      Maryland|\n",
            "| 37.61899948120117|          -122.375|  145|   San Mateo|    California|\n",
            "|  35.2140007019043|-80.94309997558594|  141| Mecklenburg|North Carolina|\n",
            "|35.877601623535156| -78.7874984741211|  133|        Wake|North Carolina|\n",
            "| 25.79319953918457|-80.29060363769531|  122|  Miami-Dade|       Florida|\n",
            "|     43.6772003174|-79.63059997559999|  114|        Peel|       Ontario|\n",
            "|         26.072599|        -80.152702|  111|     Broward|       Florida|\n",
            "|            44.882|        -93.221802|  107|    Hennepin|     Minnesota|\n",
            "| 26.53619956970215|-81.75520324707031|   95|         Lee|       Florida|\n",
            "|  36.1245002746582| -86.6781997680664|   93|    Davidson|     Tennessee|\n",
            "|27.975500106811523|     -82.533203125|   91|Hillsborough|       Florida|\n",
            "|         32.896801|        -97.038002|   85|     Tarrant|         Texas|\n",
            "+------------------+------------------+-----+------------+--------------+\n",
            "only showing top 20 rows\n",
            "\n"
          ],
          "name": "stdout"
        }
      ]
    },
    {
      "cell_type": "code",
      "metadata": {
        "id": "Yeo-wlkEyWUf",
        "colab_type": "code",
        "colab": {}
      },
      "source": [
        "# Group by county/state and count, then collect the dataframe\n",
        "key_info = incoming_flight_info.groupBy(\"county\", \"state\").sum(\"count\").orderBy(desc(\"sum(count)\")).collect()"
      ],
      "execution_count": 0,
      "outputs": []
    },
    {
      "cell_type": "code",
      "metadata": {
        "id": "GqQoiW6oysPi",
        "colab_type": "code",
        "outputId": "1bef1b62-198e-4fc3-a200-a57a7018edd9",
        "colab": {
          "base_uri": "https://localhost:8080/",
          "height": 459
        }
      },
      "source": [
        "# Reload the flight dataframe with county/state rather than lat/long and change the 'sum(count)' to 'flight_num'\n",
        "key_info_df = spark.createDataFrame(key_info).withColumnRenamed(\"sum(count)\", \"flight_num\")\n",
        "key_info_df.show()"
      ],
      "execution_count": 0,
      "outputs": [
        {
          "output_type": "stream",
          "text": [
            "+------------+--------------+----------+\n",
            "|      county|         state|flight_num|\n",
            "+------------+--------------+----------+\n",
            "|      Queens|      New York|       595|\n",
            "|   Arlington|      Virginia|       388|\n",
            "|Philadelphia|  Pennsylvania|       281|\n",
            "|      DuPage|      Illinois|       265|\n",
            "|       Essex|    New Jersey|       254|\n",
            "|     Clayton|       Georgia|       198|\n",
            "| Los Angeles|    California|       173|\n",
            "|Anne Arundel|      Maryland|       150|\n",
            "|   San Mateo|    California|       145|\n",
            "| Mecklenburg|North Carolina|       141|\n",
            "|        Wake|North Carolina|       133|\n",
            "|  Miami-Dade|       Florida|       122|\n",
            "|        Peel|       Ontario|       114|\n",
            "|     Broward|       Florida|       111|\n",
            "|    Hennepin|     Minnesota|       107|\n",
            "|         Lee|       Florida|        95|\n",
            "|    Davidson|     Tennessee|        93|\n",
            "|Hillsborough|       Florida|        91|\n",
            "|     Tarrant|         Texas|        85|\n",
            "|       Clark|        Nevada|        74|\n",
            "+------------+--------------+----------+\n",
            "only showing top 20 rows\n",
            "\n"
          ],
          "name": "stdout"
        }
      ]
    },
    {
      "cell_type": "code",
      "metadata": {
        "id": "vfAwh426MMZm",
        "colab_type": "code",
        "outputId": "3ad70a54-a29e-417e-d912-906e879c79bf",
        "colab": {
          "base_uri": "https://localhost:8080/",
          "height": 459
        }
      },
      "source": [
        "# This part generate the date for each county's first case from us-counties.csv\n",
        "spread_start = disease.orderBy(\"date\").groupBy(\"county\", \"state\").agg(first(\"date\")).withColumnRenamed(\"county\", \"spread_county\").withColumnRenamed(\"state\", \"spread_state\").withColumnRenamed(\"first(date, false)\", \"start_date\").collect()\n",
        "spread_start_df = spark.createDataFrame(spread_start)\n",
        "spread_start_df.show()\n",
        "# spread_start.count()  # 2922"
      ],
      "execution_count": 0,
      "outputs": [
        {
          "output_type": "stream",
          "text": [
            "+-------------+--------------+-------------------+\n",
            "|spread_county|  spread_state|         start_date|\n",
            "+-------------+--------------+-------------------+\n",
            "|      Pulaski|      Arkansas|2020-03-12 00:00:00|\n",
            "|       Orange|       Florida|2020-03-13 00:00:00|\n",
            "|       Mercer|    New Jersey|2020-03-14 00:00:00|\n",
            "|   Winneshiek|          Iowa|2020-03-18 00:00:00|\n",
            "|   Washington|       Alabama|2020-03-20 00:00:00|\n",
            "|      Pickens|       Georgia|2020-03-20 00:00:00|\n",
            "|      Chisago|     Minnesota|2020-03-20 00:00:00|\n",
            "|        Grant|     Louisiana|2020-03-23 00:00:00|\n",
            "|   Pennington|  South Dakota|2020-03-23 00:00:00|\n",
            "|        Stone|      Arkansas|2020-03-24 00:00:00|\n",
            "|    Claiborne|     Tennessee|2020-03-24 00:00:00|\n",
            "|         Iron|     Wisconsin|2020-03-27 00:00:00|\n",
            "|    Covington|   Mississippi|2020-03-28 00:00:00|\n",
            "|    Henderson|         Texas|2020-03-29 00:00:00|\n",
            "|       Sumter|       Alabama|2020-03-30 00:00:00|\n",
            "|   Washington|         Idaho|2020-04-02 00:00:00|\n",
            "|       Murray|      Oklahoma|2020-04-10 00:00:00|\n",
            "|        Berks|  Pennsylvania|2020-03-18 00:00:00|\n",
            "|       Sumner|     Tennessee|2020-03-18 00:00:00|\n",
            "|     Scotland|North Carolina|2020-03-22 00:00:00|\n",
            "+-------------+--------------+-------------------+\n",
            "only showing top 20 rows\n",
            "\n"
          ],
          "name": "stdout"
        }
      ]
    },
    {
      "cell_type": "code",
      "metadata": {
        "id": "1tbBzrRszoiX",
        "colab_type": "code",
        "outputId": "51963617-de6e-4849-df36-425e8b85c033",
        "colab": {
          "base_uri": "https://localhost:8080/",
          "height": 459
        }
      },
      "source": [
        "# This part show the start_date for the county/state we generated before\n",
        "key_info_df_start_date = key_info_df.join(spread_start_df, (key_info_df[\"county\"]==spread_start_df[\"spread_county\"]) &(key_info_df[\"state\"]==spread_start_df[\"spread_state\"])).drop(\"spread_county\", \"spread_state\")\n",
        "key_info_df_start_date.show()"
      ],
      "execution_count": 0,
      "outputs": [
        {
          "output_type": "stream",
          "text": [
            "+------------+-------------+----------+-------------------+\n",
            "|      county|        state|flight_num|         start_date|\n",
            "+------------+-------------+----------+-------------------+\n",
            "|      Orange|      Florida|        13|2020-03-13 00:00:00|\n",
            "|     Dauphin| Pennsylvania|        12|2020-03-22 00:00:00|\n",
            "|    Franklin|         Ohio|        43|2020-03-14 00:00:00|\n",
            "|     Clayton|      Georgia|       198|2020-03-15 00:00:00|\n",
            "|    Onondaga|     New York|        23|2020-03-16 00:00:00|\n",
            "|    Atlantic|   New Jersey|         1|2020-03-18 00:00:00|\n",
            "|     Windsor|      Vermont|         1|2020-03-14 00:00:00|\n",
            "|   Middlesex|Massachusetts|         7|2020-03-05 00:00:00|\n",
            "|     Chemung|     New York|         1|2020-03-24 00:00:00|\n",
            "|       Essex|Massachusetts|        40|2020-03-10 00:00:00|\n",
            "|      Morris|   New Jersey|         2|2020-03-12 00:00:00|\n",
            "|       Essex|   New Jersey|       254|2020-03-12 00:00:00|\n",
            "|  Rockingham|New Hampshire|         6|2020-03-07 00:00:00|\n",
            "|    Trumbull|         Ohio|         1|2020-03-12 00:00:00|\n",
            "|     Alameda|   California|         1|2020-03-01 00:00:00|\n",
            "|Hillsborough|New Hampshire|        16|2020-03-15 00:00:00|\n",
            "|    Hennepin|    Minnesota|       107|2020-03-12 00:00:00|\n",
            "|     Loudoun|     Virginia|        42|2020-03-10 00:00:00|\n",
            "|       Boone|     Kentucky|        55|2020-03-26 00:00:00|\n",
            "|     Grafton|New Hampshire|        23|2020-03-02 00:00:00|\n",
            "+------------+-------------+----------+-------------------+\n",
            "only showing top 20 rows\n",
            "\n"
          ],
          "name": "stdout"
        }
      ]
    },
    {
      "cell_type": "code",
      "metadata": {
        "id": "ImIxPBA801YU",
        "colab_type": "code",
        "outputId": "7e2aaeb6-93e2-4a93-ee0c-e717c05baacd",
        "colab": {
          "base_uri": "https://localhost:8080/",
          "height": 119
        }
      },
      "source": [
        "# This part generate the total flight number from other cities in US to our test_city in the legal time range\n",
        "key_info_df_start_date.createOrReplaceTempView('key_info_df_start_date')\n",
        "all_flights_number = spark.sql(\"select sum(flight_num) from key_info_df_start_date\")\n",
        "all_flights_number.show()"
      ],
      "execution_count": 0,
      "outputs": [
        {
          "output_type": "stream",
          "text": [
            "+---------------+\n",
            "|sum(flight_num)|\n",
            "+---------------+\n",
            "|           4341|\n",
            "+---------------+\n",
            "\n"
          ],
          "name": "stdout"
        }
      ]
    },
    {
      "cell_type": "code",
      "metadata": {
        "id": "nRoIpM6qeFc5",
        "colab_type": "code",
        "colab": {}
      },
      "source": [
        "# Function definition for adding day difference with target date\n",
        "def add_day_difference(day):\n",
        "  '''\n",
        "  This function adds day difference between target date and input date\n",
        "  '''\n",
        "  day_difference = target_date - day\n",
        "  return day_difference.days\n",
        "\n",
        "add_difference_func = udf(add_day_difference, IntegerType())"
      ],
      "execution_count": 0,
      "outputs": []
    },
    {
      "cell_type": "code",
      "metadata": {
        "id": "GSnk3dh60Aku",
        "colab_type": "code",
        "outputId": "e79ae24a-9c51-4470-cc07-3ca32c323557",
        "colab": {
          "base_uri": "https://localhost:8080/",
          "height": 153
        }
      },
      "source": [
        "# This part computes the day difference between the target date and the start_date for each county/state\n",
        "# Then, filter out all the county/state that are out of the legal time range\n",
        "key_info_df_start_difference = key_info_df_start_date.withColumn(\"day_difference\", add_difference_func(key_info_df_start_date[\"start_date\"]))\n",
        "key_info_df_start_difference = key_info_df_start_difference.filter(key_info_df_start_difference[\"day_difference\"]>end)\n",
        "key_info_df_start_difference.show()"
      ],
      "execution_count": 0,
      "outputs": [
        {
          "output_type": "stream",
          "text": [
            "+-----------+----------+----------+-------------------+--------------+\n",
            "|     county|     state|flight_num|         start_date|day_difference|\n",
            "+-----------+----------+----------+-------------------+--------------+\n",
            "|   Maricopa|   Arizona|        59|2020-01-26 00:00:00|             6|\n",
            "|Los Angeles|California|       173|2020-01-26 00:00:00|             6|\n",
            "|       Cook|  Illinois|        36|2020-01-24 00:00:00|             8|\n",
            "+-----------+----------+----------+-------------------+--------------+\n",
            "\n"
          ],
          "name": "stdout"
        }
      ]
    },
    {
      "cell_type": "code",
      "metadata": {
        "id": "boABf36v3BvY",
        "colab_type": "code",
        "outputId": "bd819598-5580-47ff-b7a3-7ce5ecc141c1",
        "colab": {
          "base_uri": "https://localhost:8080/",
          "height": 782
        }
      },
      "source": [
        "# This part of code show the disease data in the legal time period\n",
        "\n",
        "def date_range_filter_disease(consider_date):\n",
        "  #consider_datetime_obj = datetime.datetime.strptime(consider_date.split(\"+\")[0], \"%Y-%m-%d %H:%M:%S\")\n",
        "  range_max = datetime.timedelta(days=start)\n",
        "  range_min = datetime.timedelta(days=end)\n",
        "  day_difference = target_date - consider_date\n",
        "\n",
        "  if day_difference <= range_max and day_difference > range_min:\n",
        "    return True\n",
        "  else:\n",
        "    return False\n",
        "  \n",
        "date_range_filter_disease = udf(date_range_filter_disease, BooleanType())\n",
        "\n",
        "filtered_disease_data = disease.filter(date_range_filter_disease(disease[\"date\"])).withColumnRenamed(\"county\", \"spread_county\").withColumnRenamed(\"state\", \"spread_state\")\n",
        "filtered_disease_data.show(50)\n",
        "filtered_disease_data.count()"
      ],
      "execution_count": 0,
      "outputs": [
        {
          "output_type": "stream",
          "text": [
            "+-------------------+-------------+------------+-----+-----+------+\n",
            "|               date|spread_county|spread_state| fips|cases|deaths|\n",
            "+-------------------+-------------+------------+-----+-----+------+\n",
            "|2020-01-21 00:00:00|    Snohomish|  Washington|53061|    1|     0|\n",
            "|2020-01-22 00:00:00|    Snohomish|  Washington|53061|    1|     0|\n",
            "|2020-01-23 00:00:00|    Snohomish|  Washington|53061|    1|     0|\n",
            "|2020-01-24 00:00:00|         Cook|    Illinois|17031|    1|     0|\n",
            "|2020-01-24 00:00:00|    Snohomish|  Washington|53061|    1|     0|\n",
            "|2020-01-25 00:00:00|       Orange|  California| 6059|    1|     0|\n",
            "|2020-01-25 00:00:00|         Cook|    Illinois|17031|    1|     0|\n",
            "|2020-01-25 00:00:00|    Snohomish|  Washington|53061|    1|     0|\n",
            "|2020-01-26 00:00:00|     Maricopa|     Arizona| 4013|    1|     0|\n",
            "|2020-01-26 00:00:00|  Los Angeles|  California| 6037|    1|     0|\n",
            "|2020-01-26 00:00:00|       Orange|  California| 6059|    1|     0|\n",
            "|2020-01-26 00:00:00|         Cook|    Illinois|17031|    1|     0|\n",
            "|2020-01-26 00:00:00|    Snohomish|  Washington|53061|    1|     0|\n",
            "|2020-01-27 00:00:00|     Maricopa|     Arizona| 4013|    1|     0|\n",
            "|2020-01-27 00:00:00|  Los Angeles|  California| 6037|    1|     0|\n",
            "|2020-01-27 00:00:00|       Orange|  California| 6059|    1|     0|\n",
            "|2020-01-27 00:00:00|         Cook|    Illinois|17031|    1|     0|\n",
            "|2020-01-27 00:00:00|    Snohomish|  Washington|53061|    1|     0|\n",
            "|2020-01-28 00:00:00|     Maricopa|     Arizona| 4013|    1|     0|\n",
            "|2020-01-28 00:00:00|  Los Angeles|  California| 6037|    1|     0|\n",
            "|2020-01-28 00:00:00|       Orange|  California| 6059|    1|     0|\n",
            "|2020-01-28 00:00:00|         Cook|    Illinois|17031|    1|     0|\n",
            "|2020-01-28 00:00:00|    Snohomish|  Washington|53061|    1|     0|\n",
            "|2020-01-29 00:00:00|     Maricopa|     Arizona| 4013|    1|     0|\n",
            "|2020-01-29 00:00:00|  Los Angeles|  California| 6037|    1|     0|\n",
            "|2020-01-29 00:00:00|       Orange|  California| 6059|    1|     0|\n",
            "|2020-01-29 00:00:00|         Cook|    Illinois|17031|    1|     0|\n",
            "|2020-01-29 00:00:00|    Snohomish|  Washington|53061|    1|     0|\n",
            "|2020-01-30 00:00:00|     Maricopa|     Arizona| 4013|    1|     0|\n",
            "|2020-01-30 00:00:00|  Los Angeles|  California| 6037|    1|     0|\n",
            "|2020-01-30 00:00:00|       Orange|  California| 6059|    1|     0|\n",
            "|2020-01-30 00:00:00|         Cook|    Illinois|17031|    2|     0|\n",
            "|2020-01-30 00:00:00|    Snohomish|  Washington|53061|    1|     0|\n",
            "|2020-01-31 00:00:00|     Maricopa|     Arizona| 4013|    1|     0|\n",
            "|2020-01-31 00:00:00|  Los Angeles|  California| 6037|    1|     0|\n",
            "|2020-01-31 00:00:00|       Orange|  California| 6059|    1|     0|\n",
            "|2020-01-31 00:00:00|  Santa Clara|  California| 6085|    1|     0|\n",
            "|2020-01-31 00:00:00|         Cook|    Illinois|17031|    2|     0|\n",
            "|2020-01-31 00:00:00|    Snohomish|  Washington|53061|    1|     0|\n",
            "+-------------------+-------------+------------+-----+-----+------+\n",
            "\n"
          ],
          "name": "stdout"
        },
        {
          "output_type": "execute_result",
          "data": {
            "text/plain": [
              "39"
            ]
          },
          "metadata": {
            "tags": []
          },
          "execution_count": 168
        }
      ]
    },
    {
      "cell_type": "code",
      "metadata": {
        "id": "gc4G7Wcx4Q6I",
        "colab_type": "code",
        "outputId": "5134cf31-bc40-42f2-ef04-b02b9a18fbce",
        "colab": {
          "base_uri": "https://localhost:8080/",
          "height": 153
        }
      },
      "source": [
        "# This part join the filtered disease data with the key_info data\n",
        "\n",
        "# this threshold is for the average number of case for the cities from key_info\n",
        "# if the average case number for one city in that legal time period is higher than\n",
        "# this threshold, then this city will be counted as the candidate\n",
        "threshold_case = 1.0\n",
        "\n",
        "key_info_case_number = key_info_df_start_difference.join(filtered_disease_data, (key_info_df_start_difference[\"county\"]==filtered_disease_data[\"spread_county\"]) & (key_info_df_start_difference[\"state\"]==filtered_disease_data[\"spread_state\"]))\n",
        "key_info_case_number = key_info_case_number.groupBy(\"county\", \"state\").avg(\"cases\").withColumnRenamed(\"avg(cases)\", \"avg_case\")\n",
        "key_info_case_number = key_info_case_number.filter(key_info_case_number[\"avg_case\"]>=threshold_case).withColumnRenamed(\"county\", \"spread_county\").withColumnRenamed(\"state\", \"spread_state\")\n",
        "key_info_case_number.show()"
      ],
      "execution_count": 0,
      "outputs": [
        {
          "output_type": "stream",
          "text": [
            "+-------------+------------+--------+\n",
            "|spread_county|spread_state|avg_case|\n",
            "+-------------+------------+--------+\n",
            "|     Maricopa|     Arizona|     1.0|\n",
            "|  Los Angeles|  California|     1.0|\n",
            "|         Cook|    Illinois|    1.25|\n",
            "+-------------+------------+--------+\n",
            "\n"
          ],
          "name": "stdout"
        }
      ]
    },
    {
      "cell_type": "code",
      "metadata": {
        "id": "anT584YM83NL",
        "colab_type": "code",
        "outputId": "03e46f59-6aae-4fff-af5f-db343939b6c8",
        "colab": {
          "base_uri": "https://localhost:8080/",
          "height": 153
        }
      },
      "source": [
        "# This part join the flight data of county/state with the disease data of county/state\n",
        "\n",
        "key_info_result = key_info_df_start_difference.join(key_info_case_number, (key_info_df_start_difference[\"county\"]==key_info_case_number[\"spread_county\"]) & (key_info_df_start_difference[\"state\"]==key_info_case_number[\"spread_state\"]))\n",
        "key_info_result.show()"
      ],
      "execution_count": 0,
      "outputs": [
        {
          "output_type": "stream",
          "text": [
            "+-----------+----------+----------+-------------------+--------------+-------------+------------+--------+\n",
            "|     county|     state|flight_num|         start_date|day_difference|spread_county|spread_state|avg_case|\n",
            "+-----------+----------+----------+-------------------+--------------+-------------+------------+--------+\n",
            "|   Maricopa|   Arizona|        59|2020-01-26 00:00:00|             6|     Maricopa|     Arizona|     1.0|\n",
            "|Los Angeles|California|       173|2020-01-26 00:00:00|             6|  Los Angeles|  California|     1.0|\n",
            "|       Cook|  Illinois|        36|2020-01-24 00:00:00|             8|         Cook|    Illinois|    1.25|\n",
            "+-----------+----------+----------+-------------------+--------------+-------------+------------+--------+\n",
            "\n"
          ],
          "name": "stdout"
        }
      ]
    },
    {
      "cell_type": "code",
      "metadata": {
        "id": "s3fZPiVX3S7Y",
        "colab_type": "code",
        "outputId": "68606160-5ae2-4bb2-c987-f6a25e746c91",
        "colab": {
          "base_uri": "https://localhost:8080/",
          "height": 119
        }
      },
      "source": [
        "# This part sum of the flight number from the previous dataframe\n",
        "# avg_case >= threshold; start_date in the time range\n",
        "\n",
        "key_info_result.createOrReplaceTempView('key_info_result')\n",
        "flight_number_affect = spark.sql(\"select sum(flight_num) from key_info_result\")\n",
        "flight_number_affect = flight_number_affect.na.fill(0)\n",
        "flight_number_affect.show()"
      ],
      "execution_count": 0,
      "outputs": [
        {
          "output_type": "stream",
          "text": [
            "+---------------+\n",
            "|sum(flight_num)|\n",
            "+---------------+\n",
            "|            268|\n",
            "+---------------+\n",
            "\n"
          ],
          "name": "stdout"
        }
      ]
    },
    {
      "cell_type": "code",
      "metadata": {
        "id": "mNqk4Ybu-gbX",
        "colab_type": "code",
        "colab": {}
      },
      "source": [
        "# This part collects the both flights number as numerator and denominator\n",
        "\n",
        "all_flights_number = all_flights_number.collect()\n",
        "flight_number_affect = flight_number_affect.collect()\n",
        "\n",
        "all_flights_number = [row[\"sum(flight_num)\"] for row in all_flights_number]\n",
        "flight_number_affect = [row[\"sum(flight_num)\"] for row in flight_number_affect]"
      ],
      "execution_count": 0,
      "outputs": []
    },
    {
      "cell_type": "code",
      "metadata": {
        "id": "FSYNuzgD_Bie",
        "colab_type": "code",
        "outputId": "9de1e2c0-1be1-4ff5-9f7f-b01ce6f2991e",
        "colab": {
          "base_uri": "https://localhost:8080/",
          "height": 153
        }
      },
      "source": [
        "print(\"The analysis for %s, the start_date is %s.\\n\" % (test_city, target_date))\n",
        "print(\"The date range is [%d, %d]\" % (-start, -end))\n",
        "print(\"The threshold for average case number in the date range is %.1f.\\n\" % (threshold_case))\n",
        "print(\"The flight (from US) number that might influence the spread in target city: %d.\" % (flight_number_affect[0]))\n",
        "print(\"The all flight (from US) number to target city in the legal time period: %d.\" % (all_flights_number[0]))\n",
        "print(\"The ratio is: %.2f%%.\" % (flight_number_affect[0]/all_flights_number[0]*100))"
      ],
      "execution_count": 0,
      "outputs": [
        {
          "output_type": "stream",
          "text": [
            "The analysis for BOSTON, the start_date is 2020-02-01 00:00:00.\n",
            "\n",
            "The date range is [-14, 0]\n",
            "The threshold for average case number in the date range is 1.0.\n",
            "\n",
            "The flight (from US) number that might influence the spread in target city: 268.\n",
            "The all flight (from US) number to target city in the legal time period: 4341.\n",
            "The ratio is: 6.17%.\n"
          ],
          "name": "stdout"
        }
      ]
    },
    {
      "cell_type": "markdown",
      "metadata": {
        "id": "ZJl9OpSmlQHP",
        "colab_type": "text"
      },
      "source": [
        "# Aggregate the analysis in for-loop"
      ]
    },
    {
      "cell_type": "code",
      "metadata": {
        "id": "rmiENNwFlWlp",
        "colab_type": "code",
        "outputId": "28a71c9e-680b-4878-8043-3f950c22bc2a",
        "colab": {
          "base_uri": "https://localhost:8080/",
          "height": 1000
        }
      },
      "source": [
        "import time\n",
        "\n",
        "target_date = None\n",
        "start, end = 14, 0\n",
        "threshold_case = 1.0\n",
        "start_date_list = []\n",
        "flight_all = []\n",
        "flight_filtered = []\n",
        "\n",
        "start_time = time.time()\n",
        "for i in range(len(city_list)):\n",
        "  # get the test city name\n",
        "  test_city = city_list[i]\n",
        "\n",
        "  # get the first case date of test city\n",
        "  target_date = get_startdate_main(test_city)\n",
        "  start_date_list.append(target_date)\n",
        "\n",
        "  # get all flight data to this test city from worldwide\n",
        "  all_flight_data = get_all_flight_to_city(test_city[0]+test_city[1:].lower())\n",
        "\n",
        "  # filter the flight data in the legal time range\n",
        "  filtered_flight_data = all_flight_data.filter(date_range_filter(all_flight_data[\"day\"]))\n",
        "\n",
        "  # group by the flight data by lat/long\n",
        "  incoming_flight_info = filtered_flight_data.groupBy(\"latitude_deg\", \"longitude_deg\").count().orderBy(desc(\"count\"))\n",
        "\n",
        "  # add the county/state info by geopy using the lat/long info\n",
        "  incoming_flight_info = incoming_flight_info.withColumn(\"county\", add_county_func(incoming_flight_info[\"latitude_deg\"], incoming_flight_info[\"longitude_deg\"])).withColumn(\"state\", add_state_func(incoming_flight_info[\"latitude_deg\"], incoming_flight_info[\"longitude_deg\"]))\n",
        "\n",
        "  # gourp by the data by county/state and count, then collect it\n",
        "  key_info = incoming_flight_info.groupBy(\"county\", \"state\").sum(\"count\").orderBy(desc(\"sum(count)\")).collect()\n",
        "  if not key_info:\n",
        "    flight_all.append(-1)\n",
        "    flight_filtered.append(-1)\n",
        "    time_now = time.time()\n",
        "    print(\"The %dth city finished! The time till now is %.2f.\" % (i+1, time_now-start_time))\n",
        "    print(\"For this city, the flitered data is None!!!\")\n",
        "    continue\n",
        "\n",
        "  # reload the key_info and rename\n",
        "  key_info_df = spark.createDataFrame(key_info).withColumnRenamed(\"sum(count)\", \"flight_num\")\n",
        "\n",
        "  # add the start date of the source cities to the dataframe\n",
        "  key_info_df_start_date = key_info_df.join(spread_start_df, (key_info_df[\"county\"]==spread_start_df[\"spread_county\"]) &(key_info_df[\"state\"]==spread_start_df[\"spread_state\"])).drop(\"spread_county\", \"spread_state\")\n",
        "\n",
        "  # select the number of flight from cities in US to our test city\n",
        "  key_info_df_start_date.createOrReplaceTempView('key_info_df_start_date')\n",
        "  all_flights_number = spark.sql(\"select sum(flight_num) from key_info_df_start_date\")\n",
        "\n",
        "  # add day different and filter them into the legal range\n",
        "  key_info_df_start_difference = key_info_df_start_date.withColumn(\"day_difference\", add_difference_func(key_info_df_start_date[\"start_date\"]))\n",
        "  key_info_df_start_difference = key_info_df_start_difference.filter(key_info_df_start_difference[\"day_difference\"]>end)\n",
        "\n",
        "  # filter the disease data that lie in this range\n",
        "  filtered_disease_data = disease.filter(date_range_filter_disease(disease[\"date\"])).withColumnRenamed(\"county\", \"spread_county\").withColumnRenamed(\"state\", \"spread_state\")\n",
        "\n",
        "  # join the filtered disease data and flight data and filter the avergae case by threshold\n",
        "  key_info_case_number = key_info_df_start_difference.join(filtered_disease_data, (key_info_df_start_difference[\"county\"]==filtered_disease_data[\"spread_county\"]) & (key_info_df_start_difference[\"state\"]==filtered_disease_data[\"spread_state\"]))\n",
        "  key_info_case_number = key_info_case_number.groupBy(\"county\", \"state\").avg(\"cases\").withColumnRenamed(\"avg(cases)\", \"avg_case\")\n",
        "  key_info_case_number = key_info_case_number.filter(key_info_case_number[\"avg_case\"]>=threshold_case).withColumnRenamed(\"county\", \"spread_county\").withColumnRenamed(\"state\", \"spread_state\")\n",
        "\n",
        "  key_info_result = key_info_df_start_difference.join(key_info_case_number, (key_info_df_start_difference[\"county\"]==key_info_case_number[\"spread_county\"]) & (key_info_df_start_difference[\"state\"]==key_info_case_number[\"spread_state\"]))\n",
        "\n",
        "  # select the number of flight from the filtered cities to the test city\n",
        "  key_info_result.createOrReplaceTempView('key_info_result')\n",
        "  flight_number_affect = spark.sql(\"select sum(flight_num) from key_info_result\")\n",
        "  #flight_number_affect = flight_number_affect.na.fill(0)\n",
        "\n",
        "  all_flights_number = all_flights_number.collect()\n",
        "  flight_number_affect = flight_number_affect.collect()\n",
        "  all_flights_number = [row[\"sum(flight_num)\"] for row in all_flights_number]\n",
        "  flight_number_affect = [row[\"sum(flight_num)\"] for row in flight_number_affect]\n",
        "  flight_all.append(all_flights_number[0])\n",
        "  flight_filtered.append(flight_number_affect[0])\n",
        "\n",
        "  time_now = time.time()\n",
        "  print(\"The %dth city finished! The time till now is %.2f.\" % (i+1, time_now-start_time))\n",
        "  print(\"The flight (from US) number that might influence the spread in target city: %d.\" % (flight_filtered[i]))\n",
        "  print(\"The all flight (from US) number to target city in the legal time period: %d.\\n\" % (flight_all[i]))"
      ],
      "execution_count": 0,
      "outputs": [
        {
          "output_type": "stream",
          "text": [
            "The 1th city finished! The time till now is 214.71.\n",
            "The flight (from US) number that might influence the spread in target city: 268.\n",
            "The all flight (from US) number to target city in the legal time period: 4341.\n",
            "\n",
            "The 2th city finished! The time till now is 441.93.\n",
            "The flight (from US) number that might influence the spread in target city: 46.\n",
            "The all flight (from US) number to target city in the legal time period: 1917.\n",
            "\n",
            "The 3th city finished! The time till now is 868.68.\n",
            "The flight (from US) number that might influence the spread in target city: 673.\n",
            "The all flight (from US) number to target city in the legal time period: 10716.\n",
            "\n",
            "The 4th city finished! The time till now is 1012.08.\n",
            "The flight (from US) number that might influence the spread in target city: 328.\n",
            "The all flight (from US) number to target city in the legal time period: 1986.\n",
            "\n",
            "The 5th city finished! The time till now is 1260.62.\n",
            "The flight (from US) number that might influence the spread in target city: 521.\n",
            "The all flight (from US) number to target city in the legal time period: 3618.\n",
            "\n",
            "The 6th city finished! The time till now is 1493.16.\n",
            "The flight (from US) number that might influence the spread in target city: 185.\n",
            "The all flight (from US) number to target city in the legal time period: 3227.\n",
            "\n",
            "The 7th city finished! The time till now is 1536.01.\n",
            "For this city, the flitered data is None!!!\n",
            "The 8th city finished! The time till now is 1802.36.\n",
            "The flight (from US) number that might influence the spread in target city: 514.\n",
            "The all flight (from US) number to target city in the legal time period: 5148.\n",
            "\n",
            "The 9th city finished! The time till now is 1862.00.\n",
            "The flight (from US) number that might influence the spread in target city: 1.\n",
            "The all flight (from US) number to target city in the legal time period: 13.\n",
            "\n",
            "The 10th city finished! The time till now is 1906.13.\n",
            "For this city, the flitered data is None!!!\n",
            "The 11th city finished! The time till now is 2150.14.\n",
            "The flight (from US) number that might influence the spread in target city: 162.\n",
            "The all flight (from US) number to target city in the legal time period: 2678.\n",
            "\n",
            "The 12th city finished! The time till now is 2245.42.\n",
            "The flight (from US) number that might influence the spread in target city: 27.\n",
            "The all flight (from US) number to target city in the legal time period: 414.\n",
            "\n",
            "The 13th city finished! The time till now is 2396.48.\n",
            "The flight (from US) number that might influence the spread in target city: 207.\n",
            "The all flight (from US) number to target city in the legal time period: 2280.\n",
            "\n",
            "The 14th city finished! The time till now is 2438.73.\n",
            "For this city, the flitered data is None!!!\n",
            "The 15th city finished! The time till now is 2706.00.\n",
            "The flight (from US) number that might influence the spread in target city: 248.\n",
            "The all flight (from US) number to target city in the legal time period: 3685.\n",
            "\n",
            "The 16th city finished! The time till now is 2936.13.\n",
            "The flight (from US) number that might influence the spread in target city: 942.\n",
            "The all flight (from US) number to target city in the legal time period: 5751.\n",
            "\n",
            "The 17th city finished! The time till now is 2977.72.\n",
            "For this city, the flitered data is None!!!\n",
            "The 18th city finished! The time till now is 3019.96.\n",
            "For this city, the flitered data is None!!!\n",
            "The 19th city finished! The time till now is 3061.55.\n",
            "For this city, the flitered data is None!!!\n",
            "The 20th city finished! The time till now is 3103.26.\n",
            "For this city, the flitered data is None!!!\n",
            "The 21th city finished! The time till now is 3145.03.\n",
            "For this city, the flitered data is None!!!\n",
            "The 22th city finished! The time till now is 3356.04.\n",
            "The flight (from US) number that might influence the spread in target city: 971.\n",
            "The all flight (from US) number to target city in the legal time period: 4669.\n",
            "\n",
            "The 23th city finished! The time till now is 3636.40.\n",
            "The flight (from US) number that might influence the spread in target city: 266.\n",
            "The all flight (from US) number to target city in the legal time period: 5575.\n",
            "\n"
          ],
          "name": "stdout"
        }
      ]
    },
    {
      "cell_type": "markdown",
      "metadata": {
        "id": "jmscbgOFHGI9",
        "colab_type": "text"
      },
      "source": [
        "## Save the results to driver"
      ]
    },
    {
      "cell_type": "code",
      "metadata": {
        "id": "vSOQnqo1v988",
        "colab_type": "code",
        "colab": {}
      },
      "source": [
        "np.savetxt('/content/drive/My Drive/Big Data/Final Project/generated_data/flight_all_num', flight_all)"
      ],
      "execution_count": 0,
      "outputs": []
    },
    {
      "cell_type": "code",
      "metadata": {
        "id": "Dc8QbVGiwAfb",
        "colab_type": "code",
        "colab": {}
      },
      "source": [
        "np.savetxt('/content/drive/My Drive/Big Data/Final Project/generated_data/flight_filtered_num', flight_filtered)"
      ],
      "execution_count": 0,
      "outputs": []
    },
    {
      "cell_type": "markdown",
      "metadata": {
        "id": "o0tJVy_AIgF4",
        "colab_type": "text"
      },
      "source": [
        "## Handle some outliers"
      ]
    },
    {
      "cell_type": "code",
      "metadata": {
        "id": "vlgdcBeqHTGi",
        "colab_type": "code",
        "colab": {}
      },
      "source": [
        "# These cities are ignored because their name\n",
        "# e.g. LOS ANGELES should be Los Angeles\n",
        "ignore_city = [9, 13, 16, 17, 18, 19, 20]"
      ],
      "execution_count": 0,
      "outputs": []
    },
    {
      "cell_type": "code",
      "metadata": {
        "id": "ZGJbQ5hLH9O2",
        "colab_type": "code",
        "colab": {}
      },
      "source": [
        "def change_format_city_name(city_name):\n",
        "  word_list = city_name.split(' ')\n",
        "  return ' '.join(item[0]+item[1:].lower() for item in word_list)"
      ],
      "execution_count": 0,
      "outputs": []
    },
    {
      "cell_type": "code",
      "metadata": {
        "id": "RlSvlqNwIvEz",
        "colab_type": "code",
        "outputId": "fe9e4645-0f9f-40c6-ce78-9fe81cc45226",
        "colab": {
          "base_uri": "https://localhost:8080/",
          "height": 459
        }
      },
      "source": [
        "start_time = time.time()\n",
        "for i in range(len(ignore_city)):\n",
        "  # get the test city name\n",
        "  test_city = city_list[ignore_city[i]]\n",
        "  changed_city = change_format_city_name(city_list[ignore_city[i]])\n",
        "\n",
        "  # get the first case date of test city\n",
        "  target_date = get_startdate_main(test_city)\n",
        "  start_date_list[ignore_city[i]] = target_date\n",
        "\n",
        "  # get all flight data to this test city from worldwide\n",
        "  all_flight_data = get_all_flight_to_city(changed_city)\n",
        "\n",
        "  # filter the flight data in the legal time range\n",
        "  filtered_flight_data = all_flight_data.filter(date_range_filter(all_flight_data[\"day\"]))\n",
        "\n",
        "  # group by the flight data by lat/long\n",
        "  incoming_flight_info = filtered_flight_data.groupBy(\"latitude_deg\", \"longitude_deg\").count().orderBy(desc(\"count\"))\n",
        "\n",
        "  # add the county/state info by geopy using the lat/long info\n",
        "  incoming_flight_info = incoming_flight_info.withColumn(\"county\", add_county_func(incoming_flight_info[\"latitude_deg\"], incoming_flight_info[\"longitude_deg\"])).withColumn(\"state\", add_state_func(incoming_flight_info[\"latitude_deg\"], incoming_flight_info[\"longitude_deg\"]))\n",
        "\n",
        "  # gourp by the data by county/state and count, then collect it\n",
        "  key_info = incoming_flight_info.groupBy(\"county\", \"state\").sum(\"count\").orderBy(desc(\"sum(count)\")).collect()\n",
        "  if not key_info:\n",
        "    flight_all[ignore_city[i]] = -1\n",
        "    flight_filtered[ignore_city[i]] = -1\n",
        "    time_now = time.time()\n",
        "    print(\"The %dth city finished! The time till now is %.2f.\" % (ignore_city[i]+1, time_now-start_time))\n",
        "    print(\"For this city, the flitered data is None!!!\")\n",
        "    continue\n",
        "\n",
        "  # reload the key_info and rename\n",
        "  key_info_df = spark.createDataFrame(key_info).withColumnRenamed(\"sum(count)\", \"flight_num\")\n",
        "\n",
        "  # add the start date of the source cities to the dataframe\n",
        "  key_info_df_start_date = key_info_df.join(spread_start_df, (key_info_df[\"county\"]==spread_start_df[\"spread_county\"]) &(key_info_df[\"state\"]==spread_start_df[\"spread_state\"])).drop(\"spread_county\", \"spread_state\")\n",
        "\n",
        "  # select the number of flight from cities in US to our test city\n",
        "  key_info_df_start_date.createOrReplaceTempView('key_info_df_start_date')\n",
        "  all_flights_number = spark.sql(\"select sum(flight_num) from key_info_df_start_date\")\n",
        "\n",
        "  # add day different and filter them into the legal range\n",
        "  key_info_df_start_difference = key_info_df_start_date.withColumn(\"day_difference\", add_difference_func(key_info_df_start_date[\"start_date\"]))\n",
        "  key_info_df_start_difference = key_info_df_start_difference.filter(key_info_df_start_difference[\"day_difference\"]>end)\n",
        "\n",
        "  # filter the disease data that lie in this range\n",
        "  filtered_disease_data = disease.filter(date_range_filter_disease(disease[\"date\"])).withColumnRenamed(\"county\", \"spread_county\").withColumnRenamed(\"state\", \"spread_state\")\n",
        "\n",
        "  # join the filtered disease data and flight data and filter the avergae case by threshold\n",
        "  key_info_case_number = key_info_df_start_difference.join(filtered_disease_data, (key_info_df_start_difference[\"county\"]==filtered_disease_data[\"spread_county\"]) & (key_info_df_start_difference[\"state\"]==filtered_disease_data[\"spread_state\"]))\n",
        "  key_info_case_number = key_info_case_number.groupBy(\"county\", \"state\").avg(\"cases\").withColumnRenamed(\"avg(cases)\", \"avg_case\")\n",
        "  key_info_case_number = key_info_case_number.filter(key_info_case_number[\"avg_case\"]>=threshold_case).withColumnRenamed(\"county\", \"spread_county\").withColumnRenamed(\"state\", \"spread_state\")\n",
        "\n",
        "  key_info_result = key_info_df_start_difference.join(key_info_case_number, (key_info_df_start_difference[\"county\"]==key_info_case_number[\"spread_county\"]) & (key_info_df_start_difference[\"state\"]==key_info_case_number[\"spread_state\"]))\n",
        "\n",
        "  # select the number of flight from the filtered cities to the test city\n",
        "  key_info_result.createOrReplaceTempView('key_info_result')\n",
        "  flight_number_affect = spark.sql(\"select sum(flight_num) from key_info_result\")\n",
        "  #flight_number_affect = flight_number_affect.na.fill(0)\n",
        "\n",
        "  all_flights_number = all_flights_number.collect()\n",
        "  flight_number_affect = flight_number_affect.collect()\n",
        "  all_flights_number = [row[\"sum(flight_num)\"] for row in all_flights_number]\n",
        "  flight_number_affect = [row[\"sum(flight_num)\"] for row in flight_number_affect]\n",
        "  flight_all[ignore_city[i]] = all_flights_number[0]\n",
        "  flight_filtered[ignore_city[i]] = flight_number_affect[0]\n",
        "\n",
        "  time_now = time.time()\n",
        "  print(\"The %dth city finished! The time till now is %.2f.\" % (ignore_city[i]+1, time_now-start_time))\n",
        "  print(\"The flight (from US) number that might influence the spread in target city: %d.\" % (flight_filtered[ignore_city[i]]))\n",
        "  print(\"The all flight (from US) number to target city in the legal time period: %d.\\n\" % (flight_all[ignore_city[i]]))"
      ],
      "execution_count": 0,
      "outputs": [
        {
          "output_type": "stream",
          "text": [
            "The 10th city finished! The time till now is 246.47.\n",
            "The flight (from US) number that might influence the spread in target city: 723.\n",
            "The all flight (from US) number to target city in the legal time period: 5955.\n",
            "\n",
            "The 14th city finished! The time till now is 288.36.\n",
            "For this city, the flitered data is None!!!\n",
            "The 17th city finished! The time till now is 406.42.\n",
            "The flight (from US) number that might influence the spread in target city: 204.\n",
            "The all flight (from US) number to target city in the legal time period: 661.\n",
            "\n",
            "The 18th city finished! The time till now is 513.34.\n",
            "The flight (from US) number that might influence the spread in target city: 172.\n",
            "The all flight (from US) number to target city in the legal time period: 1104.\n",
            "\n",
            "The 19th city finished! The time till now is 659.90.\n",
            "The flight (from US) number that might influence the spread in target city: 721.\n",
            "The all flight (from US) number to target city in the legal time period: 2952.\n",
            "\n",
            "The 20th city finished! The time till now is 879.18.\n",
            "The flight (from US) number that might influence the spread in target city: 1157.\n",
            "The all flight (from US) number to target city in the legal time period: 4547.\n",
            "\n",
            "The 21th city finished! The time till now is 1040.41.\n",
            "The flight (from US) number that might influence the spread in target city: 950.\n",
            "The all flight (from US) number to target city in the legal time period: 2513.\n",
            "\n"
          ],
          "name": "stdout"
        }
      ]
    },
    {
      "cell_type": "code",
      "metadata": {
        "id": "vjE2S503PH3n",
        "colab_type": "code",
        "colab": {}
      },
      "source": [
        "# Save results again\n",
        "np.savetxt('/content/drive/My Drive/Big Data/Final Project/generated_data/flight_all_num', flight_all)\n",
        "np.savetxt('/content/drive/My Drive/Big Data/Final Project/generated_data/flight_filtered_num', flight_filtered)"
      ],
      "execution_count": 0,
      "outputs": []
    },
    {
      "cell_type": "markdown",
      "metadata": {
        "id": "9UqJp97VP7kB",
        "colab_type": "text"
      },
      "source": [
        "## Still one outlier: \"New York City\" should be \"New York\""
      ]
    },
    {
      "cell_type": "code",
      "metadata": {
        "id": "USr0oct_QGVq",
        "colab_type": "code",
        "outputId": "6686b664-a844-41b9-f9a1-31b85698ab29",
        "colab": {
          "base_uri": "https://localhost:8080/",
          "height": 85
        }
      },
      "source": [
        "# get the test city name\n",
        "test_city = city_list[13]\n",
        "changed_city = 'New York'\n",
        "\n",
        "# get the first case date of test city\n",
        "target_date = get_startdate_main(test_city)\n",
        "start_date_list[13] = target_date\n",
        "\n",
        "# get all flight data to this test city from worldwide\n",
        "all_flight_data = get_all_flight_to_city(changed_city)\n",
        "\n",
        "# filter the flight data in the legal time range\n",
        "filtered_flight_data = all_flight_data.filter(date_range_filter(all_flight_data[\"day\"]))\n",
        "\n",
        "# group by the flight data by lat/long\n",
        "incoming_flight_info = filtered_flight_data.groupBy(\"latitude_deg\", \"longitude_deg\").count().orderBy(desc(\"count\"))\n",
        "\n",
        "# add the county/state info by geopy using the lat/long info\n",
        "incoming_flight_info = incoming_flight_info.withColumn(\"county\", add_county_func(incoming_flight_info[\"latitude_deg\"], incoming_flight_info[\"longitude_deg\"])).withColumn(\"state\", add_state_func(incoming_flight_info[\"latitude_deg\"], incoming_flight_info[\"longitude_deg\"]))\n",
        "\n",
        "# gourp by the data by county/state and count, then collect it\n",
        "key_info = incoming_flight_info.groupBy(\"county\", \"state\").sum(\"count\").orderBy(desc(\"sum(count)\")).collect()\n",
        "\n",
        "# reload the key_info and rename\n",
        "key_info_df = spark.createDataFrame(key_info).withColumnRenamed(\"sum(count)\", \"flight_num\")\n",
        "\n",
        "# add the start date of the source cities to the dataframe\n",
        "key_info_df_start_date = key_info_df.join(spread_start_df, (key_info_df[\"county\"]==spread_start_df[\"spread_county\"]) &(key_info_df[\"state\"]==spread_start_df[\"spread_state\"])).drop(\"spread_county\", \"spread_state\")\n",
        "\n",
        "# select the number of flight from cities in US to our test city\n",
        "key_info_df_start_date.createOrReplaceTempView('key_info_df_start_date')\n",
        "all_flights_number = spark.sql(\"select sum(flight_num) from key_info_df_start_date\")\n",
        "\n",
        "# add day different and filter them into the legal range\n",
        "key_info_df_start_difference = key_info_df_start_date.withColumn(\"day_difference\", add_difference_func(key_info_df_start_date[\"start_date\"]))\n",
        "key_info_df_start_difference = key_info_df_start_difference.filter(key_info_df_start_difference[\"day_difference\"]>end)\n",
        "\n",
        "# filter the disease data that lie in this range\n",
        "filtered_disease_data = disease.filter(date_range_filter_disease(disease[\"date\"])).withColumnRenamed(\"county\", \"spread_county\").withColumnRenamed(\"state\", \"spread_state\")\n",
        "\n",
        "# join the filtered disease data and flight data and filter the avergae case by threshold\n",
        "key_info_case_number = key_info_df_start_difference.join(filtered_disease_data, (key_info_df_start_difference[\"county\"]==filtered_disease_data[\"spread_county\"]) & (key_info_df_start_difference[\"state\"]==filtered_disease_data[\"spread_state\"]))\n",
        "key_info_case_number = key_info_case_number.groupBy(\"county\", \"state\").avg(\"cases\").withColumnRenamed(\"avg(cases)\", \"avg_case\")\n",
        "key_info_case_number = key_info_case_number.filter(key_info_case_number[\"avg_case\"]>=threshold_case).withColumnRenamed(\"county\", \"spread_county\").withColumnRenamed(\"state\", \"spread_state\")\n",
        "\n",
        "key_info_result = key_info_df_start_difference.join(key_info_case_number, (key_info_df_start_difference[\"county\"]==key_info_case_number[\"spread_county\"]) & (key_info_df_start_difference[\"state\"]==key_info_case_number[\"spread_state\"]))\n",
        "\n",
        "# select the number of flight from the filtered cities to the test city\n",
        "key_info_result.createOrReplaceTempView('key_info_result')\n",
        "flight_number_affect = spark.sql(\"select sum(flight_num) from key_info_result\")\n",
        "#flight_number_affect = flight_number_affect.na.fill(0)\n",
        "\n",
        "all_flights_number = all_flights_number.collect()\n",
        "flight_number_affect = flight_number_affect.collect()\n",
        "all_flights_number = [row[\"sum(flight_num)\"] for row in all_flights_number]\n",
        "flight_number_affect = [row[\"sum(flight_num)\"] for row in flight_number_affect]\n",
        "flight_all[13] = all_flights_number[0]\n",
        "flight_filtered[13] = flight_number_affect[0]\n",
        "\n",
        "time_now = time.time()\n",
        "print(\"The %dth city finished! The time till now is %.2f.\" % (13+1, time_now-start_time))\n",
        "print(\"The flight (from US) number that might influence the spread in target city: %d.\" % (flight_filtered[13]))\n",
        "print(\"The all flight (from US) number to target city in the legal time period: %d.\\n\" % (flight_all[13]))"
      ],
      "execution_count": 0,
      "outputs": [
        {
          "output_type": "stream",
          "text": [
            "The 14th city finished! The time till now is 2199.42.\n",
            "The flight (from US) number that might influence the spread in target city: 649.\n",
            "The all flight (from US) number to target city in the legal time period: 8073.\n",
            "\n"
          ],
          "name": "stdout"
        }
      ]
    },
    {
      "cell_type": "code",
      "metadata": {
        "id": "qUQrydb7TT5F",
        "colab_type": "code",
        "colab": {}
      },
      "source": [
        "# Save data again\n",
        "np.savetxt('/content/drive/My Drive/Big Data/Final Project/generated_data/flight_all_num', flight_all)\n",
        "np.savetxt('/content/drive/My Drive/Big Data/Final Project/generated_data/flight_filtered_num', flight_filtered)"
      ],
      "execution_count": 0,
      "outputs": []
    },
    {
      "cell_type": "code",
      "metadata": {
        "id": "EHmYBuWMTXVc",
        "colab_type": "code",
        "colab": {}
      },
      "source": [
        "np.save('/content/drive/My Drive/Big Data/Final Project/generated_data/city_list', city_list)"
      ],
      "execution_count": 0,
      "outputs": []
    },
    {
      "cell_type": "markdown",
      "metadata": {
        "id": "cr1-lZCNUfTS",
        "colab_type": "text"
      },
      "source": [
        "# Analysis and Visualization"
      ]
    },
    {
      "cell_type": "markdown",
      "metadata": {
        "id": "bNbT63W-WWq-",
        "colab_type": "text"
      },
      "source": [
        "## Numerical static"
      ]
    },
    {
      "cell_type": "code",
      "metadata": {
        "id": "SfN_I5s8UkA2",
        "colab_type": "code",
        "outputId": "43a86e3a-cbc4-4116-adfe-3d087b51a92e",
        "colab": {
          "base_uri": "https://localhost:8080/",
          "height": 1000
        }
      },
      "source": [
        "# Print the outline of the results\n",
        "city_final = []\n",
        "flight_all_final = []\n",
        "flight_filtered_final = []\n",
        "ratio_list = []\n",
        "print(\"The date range we consider is [start_date-%d, start_date-%d].\" % (start, end))\n",
        "print(\"The threshold for average case is %.1f\" % (threshold_case))\n",
        "for i in range(len(city_list)):\n",
        "  if flight_all[i] != -1:\n",
        "    city_final.append(city_list[i])\n",
        "    print(\"\\nThe static for %s:\" % (city_list[i]))\n",
        "    print(\"The flight (inside US) number that might influence the spread in target city: %d\" % (flight_filtered[i]))\n",
        "    print(\"The all flight (inside US) number to target city in the legal time period: %d\" % (flight_all[i]))\n",
        "    flight_all_final.append(flight_all[i])\n",
        "    flight_filtered_final.append(flight_filtered[i])\n",
        "    ratio_list.append(flight_filtered[i]/flight_all[i]*100)\n",
        "    print(\"The ratio is %.2f%%.\" % (flight_filtered[i]/flight_all[i]*100))"
      ],
      "execution_count": 0,
      "outputs": [
        {
          "output_type": "stream",
          "text": [
            "The date range we consider is [start_date-14, start_date-0].\n",
            "The threshold for average case is 1.0\n",
            "\n",
            "The static for BOSTON:\n",
            "The flight (inside US) number that might influence the spread in target city: 268\n",
            "The all flight (inside US) number to target city in the legal time period: 4341\n",
            "The ratio is 6.17%.\n",
            "\n",
            "The static for CHARLOTTE:\n",
            "The flight (inside US) number that might influence the spread in target city: 46\n",
            "The all flight (inside US) number to target city in the legal time period: 1917\n",
            "The ratio is 2.40%.\n",
            "\n",
            "The static for CHICAGO:\n",
            "The flight (inside US) number that might influence the spread in target city: 673\n",
            "The all flight (inside US) number to target city in the legal time period: 10716\n",
            "The ratio is 6.28%.\n",
            "\n",
            "The static for DALLAS:\n",
            "The flight (inside US) number that might influence the spread in target city: 328\n",
            "The all flight (inside US) number to target city in the legal time period: 1986\n",
            "The ratio is 16.52%.\n",
            "\n",
            "The static for DENVER:\n",
            "The flight (inside US) number that might influence the spread in target city: 521\n",
            "The all flight (inside US) number to target city in the legal time period: 3618\n",
            "The ratio is 14.40%.\n",
            "\n",
            "The static for DETROIT:\n",
            "The flight (inside US) number that might influence the spread in target city: 185\n",
            "The all flight (inside US) number to target city in the legal time period: 3227\n",
            "The ratio is 5.73%.\n",
            "\n",
            "The static for HOUSTON:\n",
            "The flight (inside US) number that might influence the spread in target city: 514\n",
            "The all flight (inside US) number to target city in the legal time period: 5148\n",
            "The ratio is 9.98%.\n",
            "\n",
            "The static for INDIANAPOLIS:\n",
            "The flight (inside US) number that might influence the spread in target city: 1\n",
            "The all flight (inside US) number to target city in the legal time period: 13\n",
            "The ratio is 7.69%.\n",
            "\n",
            "The static for LOS ANGELES:\n",
            "The flight (inside US) number that might influence the spread in target city: 723\n",
            "The all flight (inside US) number to target city in the legal time period: 5955\n",
            "The ratio is 12.14%.\n",
            "\n",
            "The static for MIAMI:\n",
            "The flight (inside US) number that might influence the spread in target city: 162\n",
            "The all flight (inside US) number to target city in the legal time period: 2678\n",
            "The ratio is 6.05%.\n",
            "\n",
            "The static for MILWAUKEE:\n",
            "The flight (inside US) number that might influence the spread in target city: 27\n",
            "The all flight (inside US) number to target city in the legal time period: 414\n",
            "The ratio is 6.52%.\n",
            "\n",
            "The static for NASHVILLE:\n",
            "The flight (inside US) number that might influence the spread in target city: 207\n",
            "The all flight (inside US) number to target city in the legal time period: 2280\n",
            "The ratio is 9.08%.\n",
            "\n",
            "The static for NEW YORK CITY:\n",
            "The flight (inside US) number that might influence the spread in target city: 649\n",
            "The all flight (inside US) number to target city in the legal time period: 8073\n",
            "The ratio is 8.04%.\n",
            "\n",
            "The static for PHILADELPHIA:\n",
            "The flight (inside US) number that might influence the spread in target city: 248\n",
            "The all flight (inside US) number to target city in the legal time period: 3685\n",
            "The ratio is 6.73%.\n",
            "\n",
            "The static for PHOENIX:\n",
            "The flight (inside US) number that might influence the spread in target city: 942\n",
            "The all flight (inside US) number to target city in the legal time period: 5751\n",
            "The ratio is 16.38%.\n",
            "\n",
            "The static for SALT LAKE CITY:\n",
            "The flight (inside US) number that might influence the spread in target city: 204\n",
            "The all flight (inside US) number to target city in the legal time period: 661\n",
            "The ratio is 30.86%.\n",
            "\n",
            "The static for SAN ANTONIO:\n",
            "The flight (inside US) number that might influence the spread in target city: 172\n",
            "The all flight (inside US) number to target city in the legal time period: 1104\n",
            "The ratio is 15.58%.\n",
            "\n",
            "The static for SAN DIEGO:\n",
            "The flight (inside US) number that might influence the spread in target city: 721\n",
            "The all flight (inside US) number to target city in the legal time period: 2952\n",
            "The ratio is 24.42%.\n",
            "\n",
            "The static for SAN FRANCISCO:\n",
            "The flight (inside US) number that might influence the spread in target city: 1157\n",
            "The all flight (inside US) number to target city in the legal time period: 4547\n",
            "The ratio is 25.45%.\n",
            "\n",
            "The static for SAN JOSE:\n",
            "The flight (inside US) number that might influence the spread in target city: 950\n",
            "The all flight (inside US) number to target city in the legal time period: 2513\n",
            "The ratio is 37.80%.\n",
            "\n",
            "The static for SEATTLE:\n",
            "The flight (inside US) number that might influence the spread in target city: 971\n",
            "The all flight (inside US) number to target city in the legal time period: 4669\n",
            "The ratio is 20.80%.\n",
            "\n",
            "The static for WASHINGTON:\n",
            "The flight (inside US) number that might influence the spread in target city: 266\n",
            "The all flight (inside US) number to target city in the legal time period: 5575\n",
            "The ratio is 4.77%.\n"
          ],
          "name": "stdout"
        }
      ]
    },
    {
      "cell_type": "markdown",
      "metadata": {
        "id": "EIC7bVfMXUEf",
        "colab_type": "text"
      },
      "source": [
        "## Analyzing with Visualizations"
      ]
    },
    {
      "cell_type": "code",
      "metadata": {
        "id": "ovjVQHcuXato",
        "colab_type": "code",
        "outputId": "9506a28b-dfd5-44ee-cdba-a0722284b6e3",
        "colab": {
          "base_uri": "https://localhost:8080/",
          "height": 524
        }
      },
      "source": [
        "# Draw the line chart\n",
        "\n",
        "plt.figure(figsize=(16,7))\n",
        "\n",
        "plt.title(\"The proportion of flights from infected cities by flights from all the other citys (In last %d days).\" % (start))\n",
        "plt.xlabel(\"City\")\n",
        "plt.ylabel(\"Proportion(%)\")\n",
        "\n",
        "plt.plot(city_final, ratio_list, 'r', label='Proportion')\n",
        "plt.scatter(city_final, ratio_list, marker='o', color='black', s=20)\n",
        "for a, b in zip(city_final, ratio_list):\n",
        "  plt.text(a, b, '%.2f%%'%b, ha='center', va='bottom', fontsize=12)\n",
        "plt.hlines(10, city_final[0], city_final[-1], colors = \"g\", linestyles = \"dashed\", label='Low Interested Proportion Value')\n",
        "plt.hlines(20, city_final[0], city_final[-1], colors = \"blue\", linestyles = \"dashed\", label='High Interested Proportion Value')\n",
        "\n",
        "plt.xticks(city_final, city_final, rotation=60)\n",
        "plt.legend()\n",
        "plt.grid(linewidth=0.3)\n",
        "plt.show()"
      ],
      "execution_count": 0,
      "outputs": [
        {
          "output_type": "display_data",
          "data": {
            "image/png": "[encoded data removed]",
            "text/plain": [
              "<Figure size 1152x504 with 1 Axes>"
            ]
          },
          "metadata": {
            "tags": [],
            "needs_background": "light"
          }
        }
      ]
    },
    {
      "cell_type": "code",
      "metadata": {
        "id": "khi5VUlzccn1",
        "colab_type": "code",
        "outputId": "989cc695-1bef-4c78-b48a-0c167da90d9e",
        "colab": {
          "base_uri": "https://localhost:8080/",
          "height": 591
        }
      },
      "source": [
        "# Draw the pie chart\n",
        "\n",
        "proportion_labels = ['<5%', '5%-10%', '10%-20%', '>20%']\n",
        "proportion_data = [0, 0, 0, 0]\n",
        "explode = (0,0,0.05,0.05)\n",
        "for i in range(len(ratio_list)):\n",
        "  if ratio_list[i] < 5:\n",
        "    proportion_data[0] += 1\n",
        "  elif ratio_list[i] > 20:\n",
        "    proportion_data[3] += 1\n",
        "  elif ratio_list[i] <= 20 and ratio_list[i] >= 10:\n",
        "    proportion_data[2] += 1\n",
        "  else:\n",
        "    proportion_data[1] += 1\n",
        "\n",
        "plt.figure(figsize=(10,10))\n",
        "plt.title(\"The pie chart for the distribution of proportions.\")\n",
        "plt.pie(proportion_data, explode=explode, labels=proportion_labels, autopct='%1.1f%%', shadow=True)\n",
        "plt.legend()\n",
        "plt.show()"
      ],
      "execution_count": 0,
      "outputs": [
        {
          "output_type": "display_data",
          "data": {
            "image/png": "[encoded data removed]",
            "text/plain": [
              "<Figure size 720x720 with 1 Axes>"
            ]
          },
          "metadata": {
            "tags": []
          }
        }
      ]
    },
    {
      "cell_type": "code",
      "metadata": {
        "id": "6tPgf9oKfirO",
        "colab_type": "code",
        "outputId": "88168404-9f77-411c-968a-9e9b84ed6f9b",
        "colab": {
          "base_uri": "https://localhost:8080/",
          "height": 564
        }
      },
      "source": [
        "# Draw the bar chart\n",
        "\n",
        "bar_width = 0.5\n",
        "fig, ax = plt.subplots(figsize=(16, 8))\n",
        "\n",
        "flight_difference = []\n",
        "for i in range(len(flight_all_final)):\n",
        "  flight_difference.append(flight_all_final[i]-flight_filtered_final[i])\n",
        "ax.bar(city_final, flight_filtered_final, bar_width, label='Filtered Flight')\n",
        "ax.bar(city_final, flight_difference, bar_width, bottom = flight_filtered_final, label='All Flight')\n",
        "\n",
        "ax.set_ylabel('Number')\n",
        "ax.set_title('Filtered flight and all flight for each city')\n",
        "ax.legend()\n",
        "\n",
        "for ax in fig.axes:\n",
        "  plt.sca(ax)\n",
        "  plt.xticks(rotation=60)"
      ],
      "execution_count": 0,
      "outputs": [
        {
          "output_type": "display_data",
          "data": {
            "image/png": "[encoded data removed]",
            "text/plain": [
              "<Figure size 1152x576 with 1 Axes>"
            ]
          },
          "metadata": {
            "tags": [],
            "needs_background": "light"
          }
        }
      ]
    }
  ]
}